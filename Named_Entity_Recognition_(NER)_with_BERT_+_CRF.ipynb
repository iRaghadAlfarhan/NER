{
  "nbformat": 4,
  "nbformat_minor": 0,
  "metadata": {
    "colab": {
      "provenance": []
    },
    "kernelspec": {
      "name": "python3",
      "display_name": "Python 3"
    },
    "language_info": {
      "name": "python"
    },
    "widgets": {
      "application/vnd.jupyter.widget-state+json": {
        "c22079b784af4099adddd425c6411834": {
          "model_module": "@jupyter-widgets/controls",
          "model_name": "HBoxModel",
          "model_module_version": "1.5.0",
          "state": {
            "_dom_classes": [],
            "_model_module": "@jupyter-widgets/controls",
            "_model_module_version": "1.5.0",
            "_model_name": "HBoxModel",
            "_view_count": null,
            "_view_module": "@jupyter-widgets/controls",
            "_view_module_version": "1.5.0",
            "_view_name": "HBoxView",
            "box_style": "",
            "children": [
              "IPY_MODEL_001131f4d25c459fb32d2c7fe39d4129",
              "IPY_MODEL_0c9077c0142a4f7fbc6b52d266ea882f",
              "IPY_MODEL_ba0522d0f1fe4a18b23073eb9d9426a8"
            ],
            "layout": "IPY_MODEL_1a9015bd719d46c2be8b2ec577eb7a6d"
          }
        },
        "001131f4d25c459fb32d2c7fe39d4129": {
          "model_module": "@jupyter-widgets/controls",
          "model_name": "HTMLModel",
          "model_module_version": "1.5.0",
          "state": {
            "_dom_classes": [],
            "_model_module": "@jupyter-widgets/controls",
            "_model_module_version": "1.5.0",
            "_model_name": "HTMLModel",
            "_view_count": null,
            "_view_module": "@jupyter-widgets/controls",
            "_view_module_version": "1.5.0",
            "_view_name": "HTMLView",
            "description": "",
            "description_tooltip": null,
            "layout": "IPY_MODEL_90050e9246a64e008e76ffd79063d886",
            "placeholder": "​",
            "style": "IPY_MODEL_46023a378814449494adaf97261ac2a3",
            "value": "tokenizer_config.json: 100%"
          }
        },
        "0c9077c0142a4f7fbc6b52d266ea882f": {
          "model_module": "@jupyter-widgets/controls",
          "model_name": "FloatProgressModel",
          "model_module_version": "1.5.0",
          "state": {
            "_dom_classes": [],
            "_model_module": "@jupyter-widgets/controls",
            "_model_module_version": "1.5.0",
            "_model_name": "FloatProgressModel",
            "_view_count": null,
            "_view_module": "@jupyter-widgets/controls",
            "_view_module_version": "1.5.0",
            "_view_name": "ProgressView",
            "bar_style": "success",
            "description": "",
            "description_tooltip": null,
            "layout": "IPY_MODEL_5244d5f1c28047aaa413141f4b90077a",
            "max": 49,
            "min": 0,
            "orientation": "horizontal",
            "style": "IPY_MODEL_a86f2abb42f9464aa48c1ba5e1576a75",
            "value": 49
          }
        },
        "ba0522d0f1fe4a18b23073eb9d9426a8": {
          "model_module": "@jupyter-widgets/controls",
          "model_name": "HTMLModel",
          "model_module_version": "1.5.0",
          "state": {
            "_dom_classes": [],
            "_model_module": "@jupyter-widgets/controls",
            "_model_module_version": "1.5.0",
            "_model_name": "HTMLModel",
            "_view_count": null,
            "_view_module": "@jupyter-widgets/controls",
            "_view_module_version": "1.5.0",
            "_view_name": "HTMLView",
            "description": "",
            "description_tooltip": null,
            "layout": "IPY_MODEL_f81abbdc7a934d158cc3e7f800f481de",
            "placeholder": "​",
            "style": "IPY_MODEL_5274289e197c46cf98dae1dca952f37b",
            "value": " 49.0/49.0 [00:00&lt;00:00, 2.72kB/s]"
          }
        },
        "1a9015bd719d46c2be8b2ec577eb7a6d": {
          "model_module": "@jupyter-widgets/base",
          "model_name": "LayoutModel",
          "model_module_version": "1.2.0",
          "state": {
            "_model_module": "@jupyter-widgets/base",
            "_model_module_version": "1.2.0",
            "_model_name": "LayoutModel",
            "_view_count": null,
            "_view_module": "@jupyter-widgets/base",
            "_view_module_version": "1.2.0",
            "_view_name": "LayoutView",
            "align_content": null,
            "align_items": null,
            "align_self": null,
            "border": null,
            "bottom": null,
            "display": null,
            "flex": null,
            "flex_flow": null,
            "grid_area": null,
            "grid_auto_columns": null,
            "grid_auto_flow": null,
            "grid_auto_rows": null,
            "grid_column": null,
            "grid_gap": null,
            "grid_row": null,
            "grid_template_areas": null,
            "grid_template_columns": null,
            "grid_template_rows": null,
            "height": null,
            "justify_content": null,
            "justify_items": null,
            "left": null,
            "margin": null,
            "max_height": null,
            "max_width": null,
            "min_height": null,
            "min_width": null,
            "object_fit": null,
            "object_position": null,
            "order": null,
            "overflow": null,
            "overflow_x": null,
            "overflow_y": null,
            "padding": null,
            "right": null,
            "top": null,
            "visibility": null,
            "width": null
          }
        },
        "90050e9246a64e008e76ffd79063d886": {
          "model_module": "@jupyter-widgets/base",
          "model_name": "LayoutModel",
          "model_module_version": "1.2.0",
          "state": {
            "_model_module": "@jupyter-widgets/base",
            "_model_module_version": "1.2.0",
            "_model_name": "LayoutModel",
            "_view_count": null,
            "_view_module": "@jupyter-widgets/base",
            "_view_module_version": "1.2.0",
            "_view_name": "LayoutView",
            "align_content": null,
            "align_items": null,
            "align_self": null,
            "border": null,
            "bottom": null,
            "display": null,
            "flex": null,
            "flex_flow": null,
            "grid_area": null,
            "grid_auto_columns": null,
            "grid_auto_flow": null,
            "grid_auto_rows": null,
            "grid_column": null,
            "grid_gap": null,
            "grid_row": null,
            "grid_template_areas": null,
            "grid_template_columns": null,
            "grid_template_rows": null,
            "height": null,
            "justify_content": null,
            "justify_items": null,
            "left": null,
            "margin": null,
            "max_height": null,
            "max_width": null,
            "min_height": null,
            "min_width": null,
            "object_fit": null,
            "object_position": null,
            "order": null,
            "overflow": null,
            "overflow_x": null,
            "overflow_y": null,
            "padding": null,
            "right": null,
            "top": null,
            "visibility": null,
            "width": null
          }
        },
        "46023a378814449494adaf97261ac2a3": {
          "model_module": "@jupyter-widgets/controls",
          "model_name": "DescriptionStyleModel",
          "model_module_version": "1.5.0",
          "state": {
            "_model_module": "@jupyter-widgets/controls",
            "_model_module_version": "1.5.0",
            "_model_name": "DescriptionStyleModel",
            "_view_count": null,
            "_view_module": "@jupyter-widgets/base",
            "_view_module_version": "1.2.0",
            "_view_name": "StyleView",
            "description_width": ""
          }
        },
        "5244d5f1c28047aaa413141f4b90077a": {
          "model_module": "@jupyter-widgets/base",
          "model_name": "LayoutModel",
          "model_module_version": "1.2.0",
          "state": {
            "_model_module": "@jupyter-widgets/base",
            "_model_module_version": "1.2.0",
            "_model_name": "LayoutModel",
            "_view_count": null,
            "_view_module": "@jupyter-widgets/base",
            "_view_module_version": "1.2.0",
            "_view_name": "LayoutView",
            "align_content": null,
            "align_items": null,
            "align_self": null,
            "border": null,
            "bottom": null,
            "display": null,
            "flex": null,
            "flex_flow": null,
            "grid_area": null,
            "grid_auto_columns": null,
            "grid_auto_flow": null,
            "grid_auto_rows": null,
            "grid_column": null,
            "grid_gap": null,
            "grid_row": null,
            "grid_template_areas": null,
            "grid_template_columns": null,
            "grid_template_rows": null,
            "height": null,
            "justify_content": null,
            "justify_items": null,
            "left": null,
            "margin": null,
            "max_height": null,
            "max_width": null,
            "min_height": null,
            "min_width": null,
            "object_fit": null,
            "object_position": null,
            "order": null,
            "overflow": null,
            "overflow_x": null,
            "overflow_y": null,
            "padding": null,
            "right": null,
            "top": null,
            "visibility": null,
            "width": null
          }
        },
        "a86f2abb42f9464aa48c1ba5e1576a75": {
          "model_module": "@jupyter-widgets/controls",
          "model_name": "ProgressStyleModel",
          "model_module_version": "1.5.0",
          "state": {
            "_model_module": "@jupyter-widgets/controls",
            "_model_module_version": "1.5.0",
            "_model_name": "ProgressStyleModel",
            "_view_count": null,
            "_view_module": "@jupyter-widgets/base",
            "_view_module_version": "1.2.0",
            "_view_name": "StyleView",
            "bar_color": null,
            "description_width": ""
          }
        },
        "f81abbdc7a934d158cc3e7f800f481de": {
          "model_module": "@jupyter-widgets/base",
          "model_name": "LayoutModel",
          "model_module_version": "1.2.0",
          "state": {
            "_model_module": "@jupyter-widgets/base",
            "_model_module_version": "1.2.0",
            "_model_name": "LayoutModel",
            "_view_count": null,
            "_view_module": "@jupyter-widgets/base",
            "_view_module_version": "1.2.0",
            "_view_name": "LayoutView",
            "align_content": null,
            "align_items": null,
            "align_self": null,
            "border": null,
            "bottom": null,
            "display": null,
            "flex": null,
            "flex_flow": null,
            "grid_area": null,
            "grid_auto_columns": null,
            "grid_auto_flow": null,
            "grid_auto_rows": null,
            "grid_column": null,
            "grid_gap": null,
            "grid_row": null,
            "grid_template_areas": null,
            "grid_template_columns": null,
            "grid_template_rows": null,
            "height": null,
            "justify_content": null,
            "justify_items": null,
            "left": null,
            "margin": null,
            "max_height": null,
            "max_width": null,
            "min_height": null,
            "min_width": null,
            "object_fit": null,
            "object_position": null,
            "order": null,
            "overflow": null,
            "overflow_x": null,
            "overflow_y": null,
            "padding": null,
            "right": null,
            "top": null,
            "visibility": null,
            "width": null
          }
        },
        "5274289e197c46cf98dae1dca952f37b": {
          "model_module": "@jupyter-widgets/controls",
          "model_name": "DescriptionStyleModel",
          "model_module_version": "1.5.0",
          "state": {
            "_model_module": "@jupyter-widgets/controls",
            "_model_module_version": "1.5.0",
            "_model_name": "DescriptionStyleModel",
            "_view_count": null,
            "_view_module": "@jupyter-widgets/base",
            "_view_module_version": "1.2.0",
            "_view_name": "StyleView",
            "description_width": ""
          }
        },
        "cda23b6712744b55b9a7bfbf11ba04dd": {
          "model_module": "@jupyter-widgets/controls",
          "model_name": "HBoxModel",
          "model_module_version": "1.5.0",
          "state": {
            "_dom_classes": [],
            "_model_module": "@jupyter-widgets/controls",
            "_model_module_version": "1.5.0",
            "_model_name": "HBoxModel",
            "_view_count": null,
            "_view_module": "@jupyter-widgets/controls",
            "_view_module_version": "1.5.0",
            "_view_name": "HBoxView",
            "box_style": "",
            "children": [
              "IPY_MODEL_2b400744192844599fc7a9a320212f12",
              "IPY_MODEL_7e3fb17e61d84f8fbe2c380ee0c179ad",
              "IPY_MODEL_bc8b9d140f9a45d0bb1583e9521aad59"
            ],
            "layout": "IPY_MODEL_526db10de63b41eba455f39229f970a6"
          }
        },
        "2b400744192844599fc7a9a320212f12": {
          "model_module": "@jupyter-widgets/controls",
          "model_name": "HTMLModel",
          "model_module_version": "1.5.0",
          "state": {
            "_dom_classes": [],
            "_model_module": "@jupyter-widgets/controls",
            "_model_module_version": "1.5.0",
            "_model_name": "HTMLModel",
            "_view_count": null,
            "_view_module": "@jupyter-widgets/controls",
            "_view_module_version": "1.5.0",
            "_view_name": "HTMLView",
            "description": "",
            "description_tooltip": null,
            "layout": "IPY_MODEL_5a4dc2a0f5e34392901c57062eb308e7",
            "placeholder": "​",
            "style": "IPY_MODEL_d0b39a5340734e76b062ae26238e3224",
            "value": "config.json: 100%"
          }
        },
        "7e3fb17e61d84f8fbe2c380ee0c179ad": {
          "model_module": "@jupyter-widgets/controls",
          "model_name": "FloatProgressModel",
          "model_module_version": "1.5.0",
          "state": {
            "_dom_classes": [],
            "_model_module": "@jupyter-widgets/controls",
            "_model_module_version": "1.5.0",
            "_model_name": "FloatProgressModel",
            "_view_count": null,
            "_view_module": "@jupyter-widgets/controls",
            "_view_module_version": "1.5.0",
            "_view_name": "ProgressView",
            "bar_style": "success",
            "description": "",
            "description_tooltip": null,
            "layout": "IPY_MODEL_2ab3f0436ed04640ab1d29de5f388d9c",
            "max": 570,
            "min": 0,
            "orientation": "horizontal",
            "style": "IPY_MODEL_0be33d9172f042d0ab501b9a552b8a90",
            "value": 570
          }
        },
        "bc8b9d140f9a45d0bb1583e9521aad59": {
          "model_module": "@jupyter-widgets/controls",
          "model_name": "HTMLModel",
          "model_module_version": "1.5.0",
          "state": {
            "_dom_classes": [],
            "_model_module": "@jupyter-widgets/controls",
            "_model_module_version": "1.5.0",
            "_model_name": "HTMLModel",
            "_view_count": null,
            "_view_module": "@jupyter-widgets/controls",
            "_view_module_version": "1.5.0",
            "_view_name": "HTMLView",
            "description": "",
            "description_tooltip": null,
            "layout": "IPY_MODEL_a3b383d86ff64babbd790bcdc45355b6",
            "placeholder": "​",
            "style": "IPY_MODEL_f1f94203bd41472eae9b107be48f2d2f",
            "value": " 570/570 [00:00&lt;00:00, 36.7kB/s]"
          }
        },
        "526db10de63b41eba455f39229f970a6": {
          "model_module": "@jupyter-widgets/base",
          "model_name": "LayoutModel",
          "model_module_version": "1.2.0",
          "state": {
            "_model_module": "@jupyter-widgets/base",
            "_model_module_version": "1.2.0",
            "_model_name": "LayoutModel",
            "_view_count": null,
            "_view_module": "@jupyter-widgets/base",
            "_view_module_version": "1.2.0",
            "_view_name": "LayoutView",
            "align_content": null,
            "align_items": null,
            "align_self": null,
            "border": null,
            "bottom": null,
            "display": null,
            "flex": null,
            "flex_flow": null,
            "grid_area": null,
            "grid_auto_columns": null,
            "grid_auto_flow": null,
            "grid_auto_rows": null,
            "grid_column": null,
            "grid_gap": null,
            "grid_row": null,
            "grid_template_areas": null,
            "grid_template_columns": null,
            "grid_template_rows": null,
            "height": null,
            "justify_content": null,
            "justify_items": null,
            "left": null,
            "margin": null,
            "max_height": null,
            "max_width": null,
            "min_height": null,
            "min_width": null,
            "object_fit": null,
            "object_position": null,
            "order": null,
            "overflow": null,
            "overflow_x": null,
            "overflow_y": null,
            "padding": null,
            "right": null,
            "top": null,
            "visibility": null,
            "width": null
          }
        },
        "5a4dc2a0f5e34392901c57062eb308e7": {
          "model_module": "@jupyter-widgets/base",
          "model_name": "LayoutModel",
          "model_module_version": "1.2.0",
          "state": {
            "_model_module": "@jupyter-widgets/base",
            "_model_module_version": "1.2.0",
            "_model_name": "LayoutModel",
            "_view_count": null,
            "_view_module": "@jupyter-widgets/base",
            "_view_module_version": "1.2.0",
            "_view_name": "LayoutView",
            "align_content": null,
            "align_items": null,
            "align_self": null,
            "border": null,
            "bottom": null,
            "display": null,
            "flex": null,
            "flex_flow": null,
            "grid_area": null,
            "grid_auto_columns": null,
            "grid_auto_flow": null,
            "grid_auto_rows": null,
            "grid_column": null,
            "grid_gap": null,
            "grid_row": null,
            "grid_template_areas": null,
            "grid_template_columns": null,
            "grid_template_rows": null,
            "height": null,
            "justify_content": null,
            "justify_items": null,
            "left": null,
            "margin": null,
            "max_height": null,
            "max_width": null,
            "min_height": null,
            "min_width": null,
            "object_fit": null,
            "object_position": null,
            "order": null,
            "overflow": null,
            "overflow_x": null,
            "overflow_y": null,
            "padding": null,
            "right": null,
            "top": null,
            "visibility": null,
            "width": null
          }
        },
        "d0b39a5340734e76b062ae26238e3224": {
          "model_module": "@jupyter-widgets/controls",
          "model_name": "DescriptionStyleModel",
          "model_module_version": "1.5.0",
          "state": {
            "_model_module": "@jupyter-widgets/controls",
            "_model_module_version": "1.5.0",
            "_model_name": "DescriptionStyleModel",
            "_view_count": null,
            "_view_module": "@jupyter-widgets/base",
            "_view_module_version": "1.2.0",
            "_view_name": "StyleView",
            "description_width": ""
          }
        },
        "2ab3f0436ed04640ab1d29de5f388d9c": {
          "model_module": "@jupyter-widgets/base",
          "model_name": "LayoutModel",
          "model_module_version": "1.2.0",
          "state": {
            "_model_module": "@jupyter-widgets/base",
            "_model_module_version": "1.2.0",
            "_model_name": "LayoutModel",
            "_view_count": null,
            "_view_module": "@jupyter-widgets/base",
            "_view_module_version": "1.2.0",
            "_view_name": "LayoutView",
            "align_content": null,
            "align_items": null,
            "align_self": null,
            "border": null,
            "bottom": null,
            "display": null,
            "flex": null,
            "flex_flow": null,
            "grid_area": null,
            "grid_auto_columns": null,
            "grid_auto_flow": null,
            "grid_auto_rows": null,
            "grid_column": null,
            "grid_gap": null,
            "grid_row": null,
            "grid_template_areas": null,
            "grid_template_columns": null,
            "grid_template_rows": null,
            "height": null,
            "justify_content": null,
            "justify_items": null,
            "left": null,
            "margin": null,
            "max_height": null,
            "max_width": null,
            "min_height": null,
            "min_width": null,
            "object_fit": null,
            "object_position": null,
            "order": null,
            "overflow": null,
            "overflow_x": null,
            "overflow_y": null,
            "padding": null,
            "right": null,
            "top": null,
            "visibility": null,
            "width": null
          }
        },
        "0be33d9172f042d0ab501b9a552b8a90": {
          "model_module": "@jupyter-widgets/controls",
          "model_name": "ProgressStyleModel",
          "model_module_version": "1.5.0",
          "state": {
            "_model_module": "@jupyter-widgets/controls",
            "_model_module_version": "1.5.0",
            "_model_name": "ProgressStyleModel",
            "_view_count": null,
            "_view_module": "@jupyter-widgets/base",
            "_view_module_version": "1.2.0",
            "_view_name": "StyleView",
            "bar_color": null,
            "description_width": ""
          }
        },
        "a3b383d86ff64babbd790bcdc45355b6": {
          "model_module": "@jupyter-widgets/base",
          "model_name": "LayoutModel",
          "model_module_version": "1.2.0",
          "state": {
            "_model_module": "@jupyter-widgets/base",
            "_model_module_version": "1.2.0",
            "_model_name": "LayoutModel",
            "_view_count": null,
            "_view_module": "@jupyter-widgets/base",
            "_view_module_version": "1.2.0",
            "_view_name": "LayoutView",
            "align_content": null,
            "align_items": null,
            "align_self": null,
            "border": null,
            "bottom": null,
            "display": null,
            "flex": null,
            "flex_flow": null,
            "grid_area": null,
            "grid_auto_columns": null,
            "grid_auto_flow": null,
            "grid_auto_rows": null,
            "grid_column": null,
            "grid_gap": null,
            "grid_row": null,
            "grid_template_areas": null,
            "grid_template_columns": null,
            "grid_template_rows": null,
            "height": null,
            "justify_content": null,
            "justify_items": null,
            "left": null,
            "margin": null,
            "max_height": null,
            "max_width": null,
            "min_height": null,
            "min_width": null,
            "object_fit": null,
            "object_position": null,
            "order": null,
            "overflow": null,
            "overflow_x": null,
            "overflow_y": null,
            "padding": null,
            "right": null,
            "top": null,
            "visibility": null,
            "width": null
          }
        },
        "f1f94203bd41472eae9b107be48f2d2f": {
          "model_module": "@jupyter-widgets/controls",
          "model_name": "DescriptionStyleModel",
          "model_module_version": "1.5.0",
          "state": {
            "_model_module": "@jupyter-widgets/controls",
            "_model_module_version": "1.5.0",
            "_model_name": "DescriptionStyleModel",
            "_view_count": null,
            "_view_module": "@jupyter-widgets/base",
            "_view_module_version": "1.2.0",
            "_view_name": "StyleView",
            "description_width": ""
          }
        },
        "1f1104264c1743dcbe591e6fb95ad7ea": {
          "model_module": "@jupyter-widgets/controls",
          "model_name": "HBoxModel",
          "model_module_version": "1.5.0",
          "state": {
            "_dom_classes": [],
            "_model_module": "@jupyter-widgets/controls",
            "_model_module_version": "1.5.0",
            "_model_name": "HBoxModel",
            "_view_count": null,
            "_view_module": "@jupyter-widgets/controls",
            "_view_module_version": "1.5.0",
            "_view_name": "HBoxView",
            "box_style": "",
            "children": [
              "IPY_MODEL_8542fb7fe0584ed393f396de57aefafb",
              "IPY_MODEL_77e786333c1c4e4fb91dbdea31d1835c",
              "IPY_MODEL_9e5645d6869749a2920fdfa1bc4ecc28"
            ],
            "layout": "IPY_MODEL_7d517b9f74f241f2887a21837654602d"
          }
        },
        "8542fb7fe0584ed393f396de57aefafb": {
          "model_module": "@jupyter-widgets/controls",
          "model_name": "HTMLModel",
          "model_module_version": "1.5.0",
          "state": {
            "_dom_classes": [],
            "_model_module": "@jupyter-widgets/controls",
            "_model_module_version": "1.5.0",
            "_model_name": "HTMLModel",
            "_view_count": null,
            "_view_module": "@jupyter-widgets/controls",
            "_view_module_version": "1.5.0",
            "_view_name": "HTMLView",
            "description": "",
            "description_tooltip": null,
            "layout": "IPY_MODEL_eacad02c71024d5dbfdfeef464ee1048",
            "placeholder": "​",
            "style": "IPY_MODEL_6f7a692f14164bec8263db986b6097c7",
            "value": "vocab.txt: 100%"
          }
        },
        "77e786333c1c4e4fb91dbdea31d1835c": {
          "model_module": "@jupyter-widgets/controls",
          "model_name": "FloatProgressModel",
          "model_module_version": "1.5.0",
          "state": {
            "_dom_classes": [],
            "_model_module": "@jupyter-widgets/controls",
            "_model_module_version": "1.5.0",
            "_model_name": "FloatProgressModel",
            "_view_count": null,
            "_view_module": "@jupyter-widgets/controls",
            "_view_module_version": "1.5.0",
            "_view_name": "ProgressView",
            "bar_style": "success",
            "description": "",
            "description_tooltip": null,
            "layout": "IPY_MODEL_3b8600119e194321a7ad2c0e51fdc38f",
            "max": 213450,
            "min": 0,
            "orientation": "horizontal",
            "style": "IPY_MODEL_78ace94aab5648dc8f000dda37776cec",
            "value": 213450
          }
        },
        "9e5645d6869749a2920fdfa1bc4ecc28": {
          "model_module": "@jupyter-widgets/controls",
          "model_name": "HTMLModel",
          "model_module_version": "1.5.0",
          "state": {
            "_dom_classes": [],
            "_model_module": "@jupyter-widgets/controls",
            "_model_module_version": "1.5.0",
            "_model_name": "HTMLModel",
            "_view_count": null,
            "_view_module": "@jupyter-widgets/controls",
            "_view_module_version": "1.5.0",
            "_view_name": "HTMLView",
            "description": "",
            "description_tooltip": null,
            "layout": "IPY_MODEL_3b33bb17ed4145db97d11d7aad69cb8d",
            "placeholder": "​",
            "style": "IPY_MODEL_6098033af7264afba70f3e6912d19e25",
            "value": " 213k/213k [00:00&lt;00:00, 8.07MB/s]"
          }
        },
        "7d517b9f74f241f2887a21837654602d": {
          "model_module": "@jupyter-widgets/base",
          "model_name": "LayoutModel",
          "model_module_version": "1.2.0",
          "state": {
            "_model_module": "@jupyter-widgets/base",
            "_model_module_version": "1.2.0",
            "_model_name": "LayoutModel",
            "_view_count": null,
            "_view_module": "@jupyter-widgets/base",
            "_view_module_version": "1.2.0",
            "_view_name": "LayoutView",
            "align_content": null,
            "align_items": null,
            "align_self": null,
            "border": null,
            "bottom": null,
            "display": null,
            "flex": null,
            "flex_flow": null,
            "grid_area": null,
            "grid_auto_columns": null,
            "grid_auto_flow": null,
            "grid_auto_rows": null,
            "grid_column": null,
            "grid_gap": null,
            "grid_row": null,
            "grid_template_areas": null,
            "grid_template_columns": null,
            "grid_template_rows": null,
            "height": null,
            "justify_content": null,
            "justify_items": null,
            "left": null,
            "margin": null,
            "max_height": null,
            "max_width": null,
            "min_height": null,
            "min_width": null,
            "object_fit": null,
            "object_position": null,
            "order": null,
            "overflow": null,
            "overflow_x": null,
            "overflow_y": null,
            "padding": null,
            "right": null,
            "top": null,
            "visibility": null,
            "width": null
          }
        },
        "eacad02c71024d5dbfdfeef464ee1048": {
          "model_module": "@jupyter-widgets/base",
          "model_name": "LayoutModel",
          "model_module_version": "1.2.0",
          "state": {
            "_model_module": "@jupyter-widgets/base",
            "_model_module_version": "1.2.0",
            "_model_name": "LayoutModel",
            "_view_count": null,
            "_view_module": "@jupyter-widgets/base",
            "_view_module_version": "1.2.0",
            "_view_name": "LayoutView",
            "align_content": null,
            "align_items": null,
            "align_self": null,
            "border": null,
            "bottom": null,
            "display": null,
            "flex": null,
            "flex_flow": null,
            "grid_area": null,
            "grid_auto_columns": null,
            "grid_auto_flow": null,
            "grid_auto_rows": null,
            "grid_column": null,
            "grid_gap": null,
            "grid_row": null,
            "grid_template_areas": null,
            "grid_template_columns": null,
            "grid_template_rows": null,
            "height": null,
            "justify_content": null,
            "justify_items": null,
            "left": null,
            "margin": null,
            "max_height": null,
            "max_width": null,
            "min_height": null,
            "min_width": null,
            "object_fit": null,
            "object_position": null,
            "order": null,
            "overflow": null,
            "overflow_x": null,
            "overflow_y": null,
            "padding": null,
            "right": null,
            "top": null,
            "visibility": null,
            "width": null
          }
        },
        "6f7a692f14164bec8263db986b6097c7": {
          "model_module": "@jupyter-widgets/controls",
          "model_name": "DescriptionStyleModel",
          "model_module_version": "1.5.0",
          "state": {
            "_model_module": "@jupyter-widgets/controls",
            "_model_module_version": "1.5.0",
            "_model_name": "DescriptionStyleModel",
            "_view_count": null,
            "_view_module": "@jupyter-widgets/base",
            "_view_module_version": "1.2.0",
            "_view_name": "StyleView",
            "description_width": ""
          }
        },
        "3b8600119e194321a7ad2c0e51fdc38f": {
          "model_module": "@jupyter-widgets/base",
          "model_name": "LayoutModel",
          "model_module_version": "1.2.0",
          "state": {
            "_model_module": "@jupyter-widgets/base",
            "_model_module_version": "1.2.0",
            "_model_name": "LayoutModel",
            "_view_count": null,
            "_view_module": "@jupyter-widgets/base",
            "_view_module_version": "1.2.0",
            "_view_name": "LayoutView",
            "align_content": null,
            "align_items": null,
            "align_self": null,
            "border": null,
            "bottom": null,
            "display": null,
            "flex": null,
            "flex_flow": null,
            "grid_area": null,
            "grid_auto_columns": null,
            "grid_auto_flow": null,
            "grid_auto_rows": null,
            "grid_column": null,
            "grid_gap": null,
            "grid_row": null,
            "grid_template_areas": null,
            "grid_template_columns": null,
            "grid_template_rows": null,
            "height": null,
            "justify_content": null,
            "justify_items": null,
            "left": null,
            "margin": null,
            "max_height": null,
            "max_width": null,
            "min_height": null,
            "min_width": null,
            "object_fit": null,
            "object_position": null,
            "order": null,
            "overflow": null,
            "overflow_x": null,
            "overflow_y": null,
            "padding": null,
            "right": null,
            "top": null,
            "visibility": null,
            "width": null
          }
        },
        "78ace94aab5648dc8f000dda37776cec": {
          "model_module": "@jupyter-widgets/controls",
          "model_name": "ProgressStyleModel",
          "model_module_version": "1.5.0",
          "state": {
            "_model_module": "@jupyter-widgets/controls",
            "_model_module_version": "1.5.0",
            "_model_name": "ProgressStyleModel",
            "_view_count": null,
            "_view_module": "@jupyter-widgets/base",
            "_view_module_version": "1.2.0",
            "_view_name": "StyleView",
            "bar_color": null,
            "description_width": ""
          }
        },
        "3b33bb17ed4145db97d11d7aad69cb8d": {
          "model_module": "@jupyter-widgets/base",
          "model_name": "LayoutModel",
          "model_module_version": "1.2.0",
          "state": {
            "_model_module": "@jupyter-widgets/base",
            "_model_module_version": "1.2.0",
            "_model_name": "LayoutModel",
            "_view_count": null,
            "_view_module": "@jupyter-widgets/base",
            "_view_module_version": "1.2.0",
            "_view_name": "LayoutView",
            "align_content": null,
            "align_items": null,
            "align_self": null,
            "border": null,
            "bottom": null,
            "display": null,
            "flex": null,
            "flex_flow": null,
            "grid_area": null,
            "grid_auto_columns": null,
            "grid_auto_flow": null,
            "grid_auto_rows": null,
            "grid_column": null,
            "grid_gap": null,
            "grid_row": null,
            "grid_template_areas": null,
            "grid_template_columns": null,
            "grid_template_rows": null,
            "height": null,
            "justify_content": null,
            "justify_items": null,
            "left": null,
            "margin": null,
            "max_height": null,
            "max_width": null,
            "min_height": null,
            "min_width": null,
            "object_fit": null,
            "object_position": null,
            "order": null,
            "overflow": null,
            "overflow_x": null,
            "overflow_y": null,
            "padding": null,
            "right": null,
            "top": null,
            "visibility": null,
            "width": null
          }
        },
        "6098033af7264afba70f3e6912d19e25": {
          "model_module": "@jupyter-widgets/controls",
          "model_name": "DescriptionStyleModel",
          "model_module_version": "1.5.0",
          "state": {
            "_model_module": "@jupyter-widgets/controls",
            "_model_module_version": "1.5.0",
            "_model_name": "DescriptionStyleModel",
            "_view_count": null,
            "_view_module": "@jupyter-widgets/base",
            "_view_module_version": "1.2.0",
            "_view_name": "StyleView",
            "description_width": ""
          }
        },
        "d2bdbb0d86424ae6ae617f75aa84f1ee": {
          "model_module": "@jupyter-widgets/controls",
          "model_name": "HBoxModel",
          "model_module_version": "1.5.0",
          "state": {
            "_dom_classes": [],
            "_model_module": "@jupyter-widgets/controls",
            "_model_module_version": "1.5.0",
            "_model_name": "HBoxModel",
            "_view_count": null,
            "_view_module": "@jupyter-widgets/controls",
            "_view_module_version": "1.5.0",
            "_view_name": "HBoxView",
            "box_style": "",
            "children": [
              "IPY_MODEL_998459d6084143598334e6518eb34a99",
              "IPY_MODEL_4600fac32303435caebbf305963c4b4d",
              "IPY_MODEL_053321de7d27451c8519c8e0161d3927"
            ],
            "layout": "IPY_MODEL_9db83e1ca3fe4b2b9889ea6de2f9d49c"
          }
        },
        "998459d6084143598334e6518eb34a99": {
          "model_module": "@jupyter-widgets/controls",
          "model_name": "HTMLModel",
          "model_module_version": "1.5.0",
          "state": {
            "_dom_classes": [],
            "_model_module": "@jupyter-widgets/controls",
            "_model_module_version": "1.5.0",
            "_model_name": "HTMLModel",
            "_view_count": null,
            "_view_module": "@jupyter-widgets/controls",
            "_view_module_version": "1.5.0",
            "_view_name": "HTMLView",
            "description": "",
            "description_tooltip": null,
            "layout": "IPY_MODEL_f431a65579c54e0990a11cf0626ee869",
            "placeholder": "​",
            "style": "IPY_MODEL_e8efbeccf9e94aa2b01442b9bf9cdd83",
            "value": "tokenizer.json: 100%"
          }
        },
        "4600fac32303435caebbf305963c4b4d": {
          "model_module": "@jupyter-widgets/controls",
          "model_name": "FloatProgressModel",
          "model_module_version": "1.5.0",
          "state": {
            "_dom_classes": [],
            "_model_module": "@jupyter-widgets/controls",
            "_model_module_version": "1.5.0",
            "_model_name": "FloatProgressModel",
            "_view_count": null,
            "_view_module": "@jupyter-widgets/controls",
            "_view_module_version": "1.5.0",
            "_view_name": "ProgressView",
            "bar_style": "success",
            "description": "",
            "description_tooltip": null,
            "layout": "IPY_MODEL_3811cad474e340b2a72e343b4dc55322",
            "max": 435797,
            "min": 0,
            "orientation": "horizontal",
            "style": "IPY_MODEL_49aedc73ebd049a0bcec7096a6bafd34",
            "value": 435797
          }
        },
        "053321de7d27451c8519c8e0161d3927": {
          "model_module": "@jupyter-widgets/controls",
          "model_name": "HTMLModel",
          "model_module_version": "1.5.0",
          "state": {
            "_dom_classes": [],
            "_model_module": "@jupyter-widgets/controls",
            "_model_module_version": "1.5.0",
            "_model_name": "HTMLModel",
            "_view_count": null,
            "_view_module": "@jupyter-widgets/controls",
            "_view_module_version": "1.5.0",
            "_view_name": "HTMLView",
            "description": "",
            "description_tooltip": null,
            "layout": "IPY_MODEL_a68874d105174268a4448e4f6ad0f0fc",
            "placeholder": "​",
            "style": "IPY_MODEL_87835111107742ee8600b841dba2c4ea",
            "value": " 436k/436k [00:00&lt;00:00, 15.9MB/s]"
          }
        },
        "9db83e1ca3fe4b2b9889ea6de2f9d49c": {
          "model_module": "@jupyter-widgets/base",
          "model_name": "LayoutModel",
          "model_module_version": "1.2.0",
          "state": {
            "_model_module": "@jupyter-widgets/base",
            "_model_module_version": "1.2.0",
            "_model_name": "LayoutModel",
            "_view_count": null,
            "_view_module": "@jupyter-widgets/base",
            "_view_module_version": "1.2.0",
            "_view_name": "LayoutView",
            "align_content": null,
            "align_items": null,
            "align_self": null,
            "border": null,
            "bottom": null,
            "display": null,
            "flex": null,
            "flex_flow": null,
            "grid_area": null,
            "grid_auto_columns": null,
            "grid_auto_flow": null,
            "grid_auto_rows": null,
            "grid_column": null,
            "grid_gap": null,
            "grid_row": null,
            "grid_template_areas": null,
            "grid_template_columns": null,
            "grid_template_rows": null,
            "height": null,
            "justify_content": null,
            "justify_items": null,
            "left": null,
            "margin": null,
            "max_height": null,
            "max_width": null,
            "min_height": null,
            "min_width": null,
            "object_fit": null,
            "object_position": null,
            "order": null,
            "overflow": null,
            "overflow_x": null,
            "overflow_y": null,
            "padding": null,
            "right": null,
            "top": null,
            "visibility": null,
            "width": null
          }
        },
        "f431a65579c54e0990a11cf0626ee869": {
          "model_module": "@jupyter-widgets/base",
          "model_name": "LayoutModel",
          "model_module_version": "1.2.0",
          "state": {
            "_model_module": "@jupyter-widgets/base",
            "_model_module_version": "1.2.0",
            "_model_name": "LayoutModel",
            "_view_count": null,
            "_view_module": "@jupyter-widgets/base",
            "_view_module_version": "1.2.0",
            "_view_name": "LayoutView",
            "align_content": null,
            "align_items": null,
            "align_self": null,
            "border": null,
            "bottom": null,
            "display": null,
            "flex": null,
            "flex_flow": null,
            "grid_area": null,
            "grid_auto_columns": null,
            "grid_auto_flow": null,
            "grid_auto_rows": null,
            "grid_column": null,
            "grid_gap": null,
            "grid_row": null,
            "grid_template_areas": null,
            "grid_template_columns": null,
            "grid_template_rows": null,
            "height": null,
            "justify_content": null,
            "justify_items": null,
            "left": null,
            "margin": null,
            "max_height": null,
            "max_width": null,
            "min_height": null,
            "min_width": null,
            "object_fit": null,
            "object_position": null,
            "order": null,
            "overflow": null,
            "overflow_x": null,
            "overflow_y": null,
            "padding": null,
            "right": null,
            "top": null,
            "visibility": null,
            "width": null
          }
        },
        "e8efbeccf9e94aa2b01442b9bf9cdd83": {
          "model_module": "@jupyter-widgets/controls",
          "model_name": "DescriptionStyleModel",
          "model_module_version": "1.5.0",
          "state": {
            "_model_module": "@jupyter-widgets/controls",
            "_model_module_version": "1.5.0",
            "_model_name": "DescriptionStyleModel",
            "_view_count": null,
            "_view_module": "@jupyter-widgets/base",
            "_view_module_version": "1.2.0",
            "_view_name": "StyleView",
            "description_width": ""
          }
        },
        "3811cad474e340b2a72e343b4dc55322": {
          "model_module": "@jupyter-widgets/base",
          "model_name": "LayoutModel",
          "model_module_version": "1.2.0",
          "state": {
            "_model_module": "@jupyter-widgets/base",
            "_model_module_version": "1.2.0",
            "_model_name": "LayoutModel",
            "_view_count": null,
            "_view_module": "@jupyter-widgets/base",
            "_view_module_version": "1.2.0",
            "_view_name": "LayoutView",
            "align_content": null,
            "align_items": null,
            "align_self": null,
            "border": null,
            "bottom": null,
            "display": null,
            "flex": null,
            "flex_flow": null,
            "grid_area": null,
            "grid_auto_columns": null,
            "grid_auto_flow": null,
            "grid_auto_rows": null,
            "grid_column": null,
            "grid_gap": null,
            "grid_row": null,
            "grid_template_areas": null,
            "grid_template_columns": null,
            "grid_template_rows": null,
            "height": null,
            "justify_content": null,
            "justify_items": null,
            "left": null,
            "margin": null,
            "max_height": null,
            "max_width": null,
            "min_height": null,
            "min_width": null,
            "object_fit": null,
            "object_position": null,
            "order": null,
            "overflow": null,
            "overflow_x": null,
            "overflow_y": null,
            "padding": null,
            "right": null,
            "top": null,
            "visibility": null,
            "width": null
          }
        },
        "49aedc73ebd049a0bcec7096a6bafd34": {
          "model_module": "@jupyter-widgets/controls",
          "model_name": "ProgressStyleModel",
          "model_module_version": "1.5.0",
          "state": {
            "_model_module": "@jupyter-widgets/controls",
            "_model_module_version": "1.5.0",
            "_model_name": "ProgressStyleModel",
            "_view_count": null,
            "_view_module": "@jupyter-widgets/base",
            "_view_module_version": "1.2.0",
            "_view_name": "StyleView",
            "bar_color": null,
            "description_width": ""
          }
        },
        "a68874d105174268a4448e4f6ad0f0fc": {
          "model_module": "@jupyter-widgets/base",
          "model_name": "LayoutModel",
          "model_module_version": "1.2.0",
          "state": {
            "_model_module": "@jupyter-widgets/base",
            "_model_module_version": "1.2.0",
            "_model_name": "LayoutModel",
            "_view_count": null,
            "_view_module": "@jupyter-widgets/base",
            "_view_module_version": "1.2.0",
            "_view_name": "LayoutView",
            "align_content": null,
            "align_items": null,
            "align_self": null,
            "border": null,
            "bottom": null,
            "display": null,
            "flex": null,
            "flex_flow": null,
            "grid_area": null,
            "grid_auto_columns": null,
            "grid_auto_flow": null,
            "grid_auto_rows": null,
            "grid_column": null,
            "grid_gap": null,
            "grid_row": null,
            "grid_template_areas": null,
            "grid_template_columns": null,
            "grid_template_rows": null,
            "height": null,
            "justify_content": null,
            "justify_items": null,
            "left": null,
            "margin": null,
            "max_height": null,
            "max_width": null,
            "min_height": null,
            "min_width": null,
            "object_fit": null,
            "object_position": null,
            "order": null,
            "overflow": null,
            "overflow_x": null,
            "overflow_y": null,
            "padding": null,
            "right": null,
            "top": null,
            "visibility": null,
            "width": null
          }
        },
        "87835111107742ee8600b841dba2c4ea": {
          "model_module": "@jupyter-widgets/controls",
          "model_name": "DescriptionStyleModel",
          "model_module_version": "1.5.0",
          "state": {
            "_model_module": "@jupyter-widgets/controls",
            "_model_module_version": "1.5.0",
            "_model_name": "DescriptionStyleModel",
            "_view_count": null,
            "_view_module": "@jupyter-widgets/base",
            "_view_module_version": "1.2.0",
            "_view_name": "StyleView",
            "description_width": ""
          }
        },
        "bfe235a37481496db38797f777b39abc": {
          "model_module": "@jupyter-widgets/controls",
          "model_name": "HBoxModel",
          "model_module_version": "1.5.0",
          "state": {
            "_dom_classes": [],
            "_model_module": "@jupyter-widgets/controls",
            "_model_module_version": "1.5.0",
            "_model_name": "HBoxModel",
            "_view_count": null,
            "_view_module": "@jupyter-widgets/controls",
            "_view_module_version": "1.5.0",
            "_view_name": "HBoxView",
            "box_style": "",
            "children": [
              "IPY_MODEL_114cadf6899748bdb1c8074b48825909",
              "IPY_MODEL_fe4eef4002d044dea661ab740738dd83",
              "IPY_MODEL_605df388edcb4166be1ffc81d6c69fab"
            ],
            "layout": "IPY_MODEL_96a3c25d31e44688ae299308fd30bb61"
          }
        },
        "114cadf6899748bdb1c8074b48825909": {
          "model_module": "@jupyter-widgets/controls",
          "model_name": "HTMLModel",
          "model_module_version": "1.5.0",
          "state": {
            "_dom_classes": [],
            "_model_module": "@jupyter-widgets/controls",
            "_model_module_version": "1.5.0",
            "_model_name": "HTMLModel",
            "_view_count": null,
            "_view_module": "@jupyter-widgets/controls",
            "_view_module_version": "1.5.0",
            "_view_name": "HTMLView",
            "description": "",
            "description_tooltip": null,
            "layout": "IPY_MODEL_64473baafabc4c1caf8f3d60fbe6c62f",
            "placeholder": "​",
            "style": "IPY_MODEL_896dc6bee48947eaa8ade3e4deec4e58",
            "value": "model.safetensors: 100%"
          }
        },
        "fe4eef4002d044dea661ab740738dd83": {
          "model_module": "@jupyter-widgets/controls",
          "model_name": "FloatProgressModel",
          "model_module_version": "1.5.0",
          "state": {
            "_dom_classes": [],
            "_model_module": "@jupyter-widgets/controls",
            "_model_module_version": "1.5.0",
            "_model_name": "FloatProgressModel",
            "_view_count": null,
            "_view_module": "@jupyter-widgets/controls",
            "_view_module_version": "1.5.0",
            "_view_name": "ProgressView",
            "bar_style": "success",
            "description": "",
            "description_tooltip": null,
            "layout": "IPY_MODEL_cba226955e5447728d08c69b1ef9824a",
            "max": 435755784,
            "min": 0,
            "orientation": "horizontal",
            "style": "IPY_MODEL_c6a2c7bdd86449f5b03521d2861b2aff",
            "value": 435755784
          }
        },
        "605df388edcb4166be1ffc81d6c69fab": {
          "model_module": "@jupyter-widgets/controls",
          "model_name": "HTMLModel",
          "model_module_version": "1.5.0",
          "state": {
            "_dom_classes": [],
            "_model_module": "@jupyter-widgets/controls",
            "_model_module_version": "1.5.0",
            "_model_name": "HTMLModel",
            "_view_count": null,
            "_view_module": "@jupyter-widgets/controls",
            "_view_module_version": "1.5.0",
            "_view_name": "HTMLView",
            "description": "",
            "description_tooltip": null,
            "layout": "IPY_MODEL_3aa60d7a0ee94d989c37a9e838b88ec5",
            "placeholder": "​",
            "style": "IPY_MODEL_4417e9c0dc5041d68cecad597cf2cd51",
            "value": " 436M/436M [00:01&lt;00:00, 243MB/s]"
          }
        },
        "96a3c25d31e44688ae299308fd30bb61": {
          "model_module": "@jupyter-widgets/base",
          "model_name": "LayoutModel",
          "model_module_version": "1.2.0",
          "state": {
            "_model_module": "@jupyter-widgets/base",
            "_model_module_version": "1.2.0",
            "_model_name": "LayoutModel",
            "_view_count": null,
            "_view_module": "@jupyter-widgets/base",
            "_view_module_version": "1.2.0",
            "_view_name": "LayoutView",
            "align_content": null,
            "align_items": null,
            "align_self": null,
            "border": null,
            "bottom": null,
            "display": null,
            "flex": null,
            "flex_flow": null,
            "grid_area": null,
            "grid_auto_columns": null,
            "grid_auto_flow": null,
            "grid_auto_rows": null,
            "grid_column": null,
            "grid_gap": null,
            "grid_row": null,
            "grid_template_areas": null,
            "grid_template_columns": null,
            "grid_template_rows": null,
            "height": null,
            "justify_content": null,
            "justify_items": null,
            "left": null,
            "margin": null,
            "max_height": null,
            "max_width": null,
            "min_height": null,
            "min_width": null,
            "object_fit": null,
            "object_position": null,
            "order": null,
            "overflow": null,
            "overflow_x": null,
            "overflow_y": null,
            "padding": null,
            "right": null,
            "top": null,
            "visibility": null,
            "width": null
          }
        },
        "64473baafabc4c1caf8f3d60fbe6c62f": {
          "model_module": "@jupyter-widgets/base",
          "model_name": "LayoutModel",
          "model_module_version": "1.2.0",
          "state": {
            "_model_module": "@jupyter-widgets/base",
            "_model_module_version": "1.2.0",
            "_model_name": "LayoutModel",
            "_view_count": null,
            "_view_module": "@jupyter-widgets/base",
            "_view_module_version": "1.2.0",
            "_view_name": "LayoutView",
            "align_content": null,
            "align_items": null,
            "align_self": null,
            "border": null,
            "bottom": null,
            "display": null,
            "flex": null,
            "flex_flow": null,
            "grid_area": null,
            "grid_auto_columns": null,
            "grid_auto_flow": null,
            "grid_auto_rows": null,
            "grid_column": null,
            "grid_gap": null,
            "grid_row": null,
            "grid_template_areas": null,
            "grid_template_columns": null,
            "grid_template_rows": null,
            "height": null,
            "justify_content": null,
            "justify_items": null,
            "left": null,
            "margin": null,
            "max_height": null,
            "max_width": null,
            "min_height": null,
            "min_width": null,
            "object_fit": null,
            "object_position": null,
            "order": null,
            "overflow": null,
            "overflow_x": null,
            "overflow_y": null,
            "padding": null,
            "right": null,
            "top": null,
            "visibility": null,
            "width": null
          }
        },
        "896dc6bee48947eaa8ade3e4deec4e58": {
          "model_module": "@jupyter-widgets/controls",
          "model_name": "DescriptionStyleModel",
          "model_module_version": "1.5.0",
          "state": {
            "_model_module": "@jupyter-widgets/controls",
            "_model_module_version": "1.5.0",
            "_model_name": "DescriptionStyleModel",
            "_view_count": null,
            "_view_module": "@jupyter-widgets/base",
            "_view_module_version": "1.2.0",
            "_view_name": "StyleView",
            "description_width": ""
          }
        },
        "cba226955e5447728d08c69b1ef9824a": {
          "model_module": "@jupyter-widgets/base",
          "model_name": "LayoutModel",
          "model_module_version": "1.2.0",
          "state": {
            "_model_module": "@jupyter-widgets/base",
            "_model_module_version": "1.2.0",
            "_model_name": "LayoutModel",
            "_view_count": null,
            "_view_module": "@jupyter-widgets/base",
            "_view_module_version": "1.2.0",
            "_view_name": "LayoutView",
            "align_content": null,
            "align_items": null,
            "align_self": null,
            "border": null,
            "bottom": null,
            "display": null,
            "flex": null,
            "flex_flow": null,
            "grid_area": null,
            "grid_auto_columns": null,
            "grid_auto_flow": null,
            "grid_auto_rows": null,
            "grid_column": null,
            "grid_gap": null,
            "grid_row": null,
            "grid_template_areas": null,
            "grid_template_columns": null,
            "grid_template_rows": null,
            "height": null,
            "justify_content": null,
            "justify_items": null,
            "left": null,
            "margin": null,
            "max_height": null,
            "max_width": null,
            "min_height": null,
            "min_width": null,
            "object_fit": null,
            "object_position": null,
            "order": null,
            "overflow": null,
            "overflow_x": null,
            "overflow_y": null,
            "padding": null,
            "right": null,
            "top": null,
            "visibility": null,
            "width": null
          }
        },
        "c6a2c7bdd86449f5b03521d2861b2aff": {
          "model_module": "@jupyter-widgets/controls",
          "model_name": "ProgressStyleModel",
          "model_module_version": "1.5.0",
          "state": {
            "_model_module": "@jupyter-widgets/controls",
            "_model_module_version": "1.5.0",
            "_model_name": "ProgressStyleModel",
            "_view_count": null,
            "_view_module": "@jupyter-widgets/base",
            "_view_module_version": "1.2.0",
            "_view_name": "StyleView",
            "bar_color": null,
            "description_width": ""
          }
        },
        "3aa60d7a0ee94d989c37a9e838b88ec5": {
          "model_module": "@jupyter-widgets/base",
          "model_name": "LayoutModel",
          "model_module_version": "1.2.0",
          "state": {
            "_model_module": "@jupyter-widgets/base",
            "_model_module_version": "1.2.0",
            "_model_name": "LayoutModel",
            "_view_count": null,
            "_view_module": "@jupyter-widgets/base",
            "_view_module_version": "1.2.0",
            "_view_name": "LayoutView",
            "align_content": null,
            "align_items": null,
            "align_self": null,
            "border": null,
            "bottom": null,
            "display": null,
            "flex": null,
            "flex_flow": null,
            "grid_area": null,
            "grid_auto_columns": null,
            "grid_auto_flow": null,
            "grid_auto_rows": null,
            "grid_column": null,
            "grid_gap": null,
            "grid_row": null,
            "grid_template_areas": null,
            "grid_template_columns": null,
            "grid_template_rows": null,
            "height": null,
            "justify_content": null,
            "justify_items": null,
            "left": null,
            "margin": null,
            "max_height": null,
            "max_width": null,
            "min_height": null,
            "min_width": null,
            "object_fit": null,
            "object_position": null,
            "order": null,
            "overflow": null,
            "overflow_x": null,
            "overflow_y": null,
            "padding": null,
            "right": null,
            "top": null,
            "visibility": null,
            "width": null
          }
        },
        "4417e9c0dc5041d68cecad597cf2cd51": {
          "model_module": "@jupyter-widgets/controls",
          "model_name": "DescriptionStyleModel",
          "model_module_version": "1.5.0",
          "state": {
            "_model_module": "@jupyter-widgets/controls",
            "_model_module_version": "1.5.0",
            "_model_name": "DescriptionStyleModel",
            "_view_count": null,
            "_view_module": "@jupyter-widgets/base",
            "_view_module_version": "1.2.0",
            "_view_name": "StyleView",
            "description_width": ""
          }
        },
        "3a8f5008d6ef4104881dc3b91dc0a103": {
          "model_module": "@jupyter-widgets/controls",
          "model_name": "HBoxModel",
          "model_module_version": "1.5.0",
          "state": {
            "_dom_classes": [],
            "_model_module": "@jupyter-widgets/controls",
            "_model_module_version": "1.5.0",
            "_model_name": "HBoxModel",
            "_view_count": null,
            "_view_module": "@jupyter-widgets/controls",
            "_view_module_version": "1.5.0",
            "_view_name": "HBoxView",
            "box_style": "",
            "children": [
              "IPY_MODEL_edde6fcfd6904d4692f42d716b8ac65c",
              "IPY_MODEL_7d03b2f1d54e4add81a9c16c3c970325",
              "IPY_MODEL_9f2be7767471487fb0822393884846a3"
            ],
            "layout": "IPY_MODEL_8b7acec7450d4ea6888f6070a1f0f6b7"
          }
        },
        "edde6fcfd6904d4692f42d716b8ac65c": {
          "model_module": "@jupyter-widgets/controls",
          "model_name": "HTMLModel",
          "model_module_version": "1.5.0",
          "state": {
            "_dom_classes": [],
            "_model_module": "@jupyter-widgets/controls",
            "_model_module_version": "1.5.0",
            "_model_name": "HTMLModel",
            "_view_count": null,
            "_view_module": "@jupyter-widgets/controls",
            "_view_module_version": "1.5.0",
            "_view_name": "HTMLView",
            "description": "",
            "description_tooltip": null,
            "layout": "IPY_MODEL_2aef53738f804986887e8a762175ac2a",
            "placeholder": "​",
            "style": "IPY_MODEL_692687a626e647878f7e375f0639c939",
            "value": "Map: 100%"
          }
        },
        "7d03b2f1d54e4add81a9c16c3c970325": {
          "model_module": "@jupyter-widgets/controls",
          "model_name": "FloatProgressModel",
          "model_module_version": "1.5.0",
          "state": {
            "_dom_classes": [],
            "_model_module": "@jupyter-widgets/controls",
            "_model_module_version": "1.5.0",
            "_model_name": "FloatProgressModel",
            "_view_count": null,
            "_view_module": "@jupyter-widgets/controls",
            "_view_module_version": "1.5.0",
            "_view_name": "ProgressView",
            "bar_style": "success",
            "description": "",
            "description_tooltip": null,
            "layout": "IPY_MODEL_fd54e936f776471685a2c073d8998f1f",
            "max": 14987,
            "min": 0,
            "orientation": "horizontal",
            "style": "IPY_MODEL_e59bfea7302e449691b3fe84e9c87cc3",
            "value": 14987
          }
        },
        "9f2be7767471487fb0822393884846a3": {
          "model_module": "@jupyter-widgets/controls",
          "model_name": "HTMLModel",
          "model_module_version": "1.5.0",
          "state": {
            "_dom_classes": [],
            "_model_module": "@jupyter-widgets/controls",
            "_model_module_version": "1.5.0",
            "_model_name": "HTMLModel",
            "_view_count": null,
            "_view_module": "@jupyter-widgets/controls",
            "_view_module_version": "1.5.0",
            "_view_name": "HTMLView",
            "description": "",
            "description_tooltip": null,
            "layout": "IPY_MODEL_4e0ed8fe2bc6481f87ba0aab99688444",
            "placeholder": "​",
            "style": "IPY_MODEL_010a8600a2f54e82a0796cd524a72579",
            "value": " 14987/14987 [00:09&lt;00:00, 1258.57 examples/s]"
          }
        },
        "8b7acec7450d4ea6888f6070a1f0f6b7": {
          "model_module": "@jupyter-widgets/base",
          "model_name": "LayoutModel",
          "model_module_version": "1.2.0",
          "state": {
            "_model_module": "@jupyter-widgets/base",
            "_model_module_version": "1.2.0",
            "_model_name": "LayoutModel",
            "_view_count": null,
            "_view_module": "@jupyter-widgets/base",
            "_view_module_version": "1.2.0",
            "_view_name": "LayoutView",
            "align_content": null,
            "align_items": null,
            "align_self": null,
            "border": null,
            "bottom": null,
            "display": null,
            "flex": null,
            "flex_flow": null,
            "grid_area": null,
            "grid_auto_columns": null,
            "grid_auto_flow": null,
            "grid_auto_rows": null,
            "grid_column": null,
            "grid_gap": null,
            "grid_row": null,
            "grid_template_areas": null,
            "grid_template_columns": null,
            "grid_template_rows": null,
            "height": null,
            "justify_content": null,
            "justify_items": null,
            "left": null,
            "margin": null,
            "max_height": null,
            "max_width": null,
            "min_height": null,
            "min_width": null,
            "object_fit": null,
            "object_position": null,
            "order": null,
            "overflow": null,
            "overflow_x": null,
            "overflow_y": null,
            "padding": null,
            "right": null,
            "top": null,
            "visibility": null,
            "width": null
          }
        },
        "2aef53738f804986887e8a762175ac2a": {
          "model_module": "@jupyter-widgets/base",
          "model_name": "LayoutModel",
          "model_module_version": "1.2.0",
          "state": {
            "_model_module": "@jupyter-widgets/base",
            "_model_module_version": "1.2.0",
            "_model_name": "LayoutModel",
            "_view_count": null,
            "_view_module": "@jupyter-widgets/base",
            "_view_module_version": "1.2.0",
            "_view_name": "LayoutView",
            "align_content": null,
            "align_items": null,
            "align_self": null,
            "border": null,
            "bottom": null,
            "display": null,
            "flex": null,
            "flex_flow": null,
            "grid_area": null,
            "grid_auto_columns": null,
            "grid_auto_flow": null,
            "grid_auto_rows": null,
            "grid_column": null,
            "grid_gap": null,
            "grid_row": null,
            "grid_template_areas": null,
            "grid_template_columns": null,
            "grid_template_rows": null,
            "height": null,
            "justify_content": null,
            "justify_items": null,
            "left": null,
            "margin": null,
            "max_height": null,
            "max_width": null,
            "min_height": null,
            "min_width": null,
            "object_fit": null,
            "object_position": null,
            "order": null,
            "overflow": null,
            "overflow_x": null,
            "overflow_y": null,
            "padding": null,
            "right": null,
            "top": null,
            "visibility": null,
            "width": null
          }
        },
        "692687a626e647878f7e375f0639c939": {
          "model_module": "@jupyter-widgets/controls",
          "model_name": "DescriptionStyleModel",
          "model_module_version": "1.5.0",
          "state": {
            "_model_module": "@jupyter-widgets/controls",
            "_model_module_version": "1.5.0",
            "_model_name": "DescriptionStyleModel",
            "_view_count": null,
            "_view_module": "@jupyter-widgets/base",
            "_view_module_version": "1.2.0",
            "_view_name": "StyleView",
            "description_width": ""
          }
        },
        "fd54e936f776471685a2c073d8998f1f": {
          "model_module": "@jupyter-widgets/base",
          "model_name": "LayoutModel",
          "model_module_version": "1.2.0",
          "state": {
            "_model_module": "@jupyter-widgets/base",
            "_model_module_version": "1.2.0",
            "_model_name": "LayoutModel",
            "_view_count": null,
            "_view_module": "@jupyter-widgets/base",
            "_view_module_version": "1.2.0",
            "_view_name": "LayoutView",
            "align_content": null,
            "align_items": null,
            "align_self": null,
            "border": null,
            "bottom": null,
            "display": null,
            "flex": null,
            "flex_flow": null,
            "grid_area": null,
            "grid_auto_columns": null,
            "grid_auto_flow": null,
            "grid_auto_rows": null,
            "grid_column": null,
            "grid_gap": null,
            "grid_row": null,
            "grid_template_areas": null,
            "grid_template_columns": null,
            "grid_template_rows": null,
            "height": null,
            "justify_content": null,
            "justify_items": null,
            "left": null,
            "margin": null,
            "max_height": null,
            "max_width": null,
            "min_height": null,
            "min_width": null,
            "object_fit": null,
            "object_position": null,
            "order": null,
            "overflow": null,
            "overflow_x": null,
            "overflow_y": null,
            "padding": null,
            "right": null,
            "top": null,
            "visibility": null,
            "width": null
          }
        },
        "e59bfea7302e449691b3fe84e9c87cc3": {
          "model_module": "@jupyter-widgets/controls",
          "model_name": "ProgressStyleModel",
          "model_module_version": "1.5.0",
          "state": {
            "_model_module": "@jupyter-widgets/controls",
            "_model_module_version": "1.5.0",
            "_model_name": "ProgressStyleModel",
            "_view_count": null,
            "_view_module": "@jupyter-widgets/base",
            "_view_module_version": "1.2.0",
            "_view_name": "StyleView",
            "bar_color": null,
            "description_width": ""
          }
        },
        "4e0ed8fe2bc6481f87ba0aab99688444": {
          "model_module": "@jupyter-widgets/base",
          "model_name": "LayoutModel",
          "model_module_version": "1.2.0",
          "state": {
            "_model_module": "@jupyter-widgets/base",
            "_model_module_version": "1.2.0",
            "_model_name": "LayoutModel",
            "_view_count": null,
            "_view_module": "@jupyter-widgets/base",
            "_view_module_version": "1.2.0",
            "_view_name": "LayoutView",
            "align_content": null,
            "align_items": null,
            "align_self": null,
            "border": null,
            "bottom": null,
            "display": null,
            "flex": null,
            "flex_flow": null,
            "grid_area": null,
            "grid_auto_columns": null,
            "grid_auto_flow": null,
            "grid_auto_rows": null,
            "grid_column": null,
            "grid_gap": null,
            "grid_row": null,
            "grid_template_areas": null,
            "grid_template_columns": null,
            "grid_template_rows": null,
            "height": null,
            "justify_content": null,
            "justify_items": null,
            "left": null,
            "margin": null,
            "max_height": null,
            "max_width": null,
            "min_height": null,
            "min_width": null,
            "object_fit": null,
            "object_position": null,
            "order": null,
            "overflow": null,
            "overflow_x": null,
            "overflow_y": null,
            "padding": null,
            "right": null,
            "top": null,
            "visibility": null,
            "width": null
          }
        },
        "010a8600a2f54e82a0796cd524a72579": {
          "model_module": "@jupyter-widgets/controls",
          "model_name": "DescriptionStyleModel",
          "model_module_version": "1.5.0",
          "state": {
            "_model_module": "@jupyter-widgets/controls",
            "_model_module_version": "1.5.0",
            "_model_name": "DescriptionStyleModel",
            "_view_count": null,
            "_view_module": "@jupyter-widgets/base",
            "_view_module_version": "1.2.0",
            "_view_name": "StyleView",
            "description_width": ""
          }
        },
        "e2b9eb2366b9444a81608f444ea8e79c": {
          "model_module": "@jupyter-widgets/controls",
          "model_name": "HBoxModel",
          "model_module_version": "1.5.0",
          "state": {
            "_dom_classes": [],
            "_model_module": "@jupyter-widgets/controls",
            "_model_module_version": "1.5.0",
            "_model_name": "HBoxModel",
            "_view_count": null,
            "_view_module": "@jupyter-widgets/controls",
            "_view_module_version": "1.5.0",
            "_view_name": "HBoxView",
            "box_style": "",
            "children": [
              "IPY_MODEL_07ceda6de93d40cf91412123fb6b5a8b",
              "IPY_MODEL_145414eb1af14c3f92f3d28538323745",
              "IPY_MODEL_5d83d333bcb54771b786c2c010cb1ff2"
            ],
            "layout": "IPY_MODEL_740fe8cc3a054816b2f085a64df2b252"
          }
        },
        "07ceda6de93d40cf91412123fb6b5a8b": {
          "model_module": "@jupyter-widgets/controls",
          "model_name": "HTMLModel",
          "model_module_version": "1.5.0",
          "state": {
            "_dom_classes": [],
            "_model_module": "@jupyter-widgets/controls",
            "_model_module_version": "1.5.0",
            "_model_name": "HTMLModel",
            "_view_count": null,
            "_view_module": "@jupyter-widgets/controls",
            "_view_module_version": "1.5.0",
            "_view_name": "HTMLView",
            "description": "",
            "description_tooltip": null,
            "layout": "IPY_MODEL_13cd3b4447c84a6e9b69b22555135bd9",
            "placeholder": "​",
            "style": "IPY_MODEL_47919f88256a4b9cb6f763e1e486c256",
            "value": "Map: 100%"
          }
        },
        "145414eb1af14c3f92f3d28538323745": {
          "model_module": "@jupyter-widgets/controls",
          "model_name": "FloatProgressModel",
          "model_module_version": "1.5.0",
          "state": {
            "_dom_classes": [],
            "_model_module": "@jupyter-widgets/controls",
            "_model_module_version": "1.5.0",
            "_model_name": "FloatProgressModel",
            "_view_count": null,
            "_view_module": "@jupyter-widgets/controls",
            "_view_module_version": "1.5.0",
            "_view_name": "ProgressView",
            "bar_style": "success",
            "description": "",
            "description_tooltip": null,
            "layout": "IPY_MODEL_3d69bc93f04d47949e54a2badf3c1d3f",
            "max": 3466,
            "min": 0,
            "orientation": "horizontal",
            "style": "IPY_MODEL_9bda41c6bd8e44b98f765d2d68ad56c8",
            "value": 3466
          }
        },
        "5d83d333bcb54771b786c2c010cb1ff2": {
          "model_module": "@jupyter-widgets/controls",
          "model_name": "HTMLModel",
          "model_module_version": "1.5.0",
          "state": {
            "_dom_classes": [],
            "_model_module": "@jupyter-widgets/controls",
            "_model_module_version": "1.5.0",
            "_model_name": "HTMLModel",
            "_view_count": null,
            "_view_module": "@jupyter-widgets/controls",
            "_view_module_version": "1.5.0",
            "_view_name": "HTMLView",
            "description": "",
            "description_tooltip": null,
            "layout": "IPY_MODEL_10dfb1ff094c4938a2ce777335962b16",
            "placeholder": "​",
            "style": "IPY_MODEL_0d1f2795cd37457190e442f05eee0c76",
            "value": " 3466/3466 [00:01&lt;00:00, 1920.89 examples/s]"
          }
        },
        "740fe8cc3a054816b2f085a64df2b252": {
          "model_module": "@jupyter-widgets/base",
          "model_name": "LayoutModel",
          "model_module_version": "1.2.0",
          "state": {
            "_model_module": "@jupyter-widgets/base",
            "_model_module_version": "1.2.0",
            "_model_name": "LayoutModel",
            "_view_count": null,
            "_view_module": "@jupyter-widgets/base",
            "_view_module_version": "1.2.0",
            "_view_name": "LayoutView",
            "align_content": null,
            "align_items": null,
            "align_self": null,
            "border": null,
            "bottom": null,
            "display": null,
            "flex": null,
            "flex_flow": null,
            "grid_area": null,
            "grid_auto_columns": null,
            "grid_auto_flow": null,
            "grid_auto_rows": null,
            "grid_column": null,
            "grid_gap": null,
            "grid_row": null,
            "grid_template_areas": null,
            "grid_template_columns": null,
            "grid_template_rows": null,
            "height": null,
            "justify_content": null,
            "justify_items": null,
            "left": null,
            "margin": null,
            "max_height": null,
            "max_width": null,
            "min_height": null,
            "min_width": null,
            "object_fit": null,
            "object_position": null,
            "order": null,
            "overflow": null,
            "overflow_x": null,
            "overflow_y": null,
            "padding": null,
            "right": null,
            "top": null,
            "visibility": null,
            "width": null
          }
        },
        "13cd3b4447c84a6e9b69b22555135bd9": {
          "model_module": "@jupyter-widgets/base",
          "model_name": "LayoutModel",
          "model_module_version": "1.2.0",
          "state": {
            "_model_module": "@jupyter-widgets/base",
            "_model_module_version": "1.2.0",
            "_model_name": "LayoutModel",
            "_view_count": null,
            "_view_module": "@jupyter-widgets/base",
            "_view_module_version": "1.2.0",
            "_view_name": "LayoutView",
            "align_content": null,
            "align_items": null,
            "align_self": null,
            "border": null,
            "bottom": null,
            "display": null,
            "flex": null,
            "flex_flow": null,
            "grid_area": null,
            "grid_auto_columns": null,
            "grid_auto_flow": null,
            "grid_auto_rows": null,
            "grid_column": null,
            "grid_gap": null,
            "grid_row": null,
            "grid_template_areas": null,
            "grid_template_columns": null,
            "grid_template_rows": null,
            "height": null,
            "justify_content": null,
            "justify_items": null,
            "left": null,
            "margin": null,
            "max_height": null,
            "max_width": null,
            "min_height": null,
            "min_width": null,
            "object_fit": null,
            "object_position": null,
            "order": null,
            "overflow": null,
            "overflow_x": null,
            "overflow_y": null,
            "padding": null,
            "right": null,
            "top": null,
            "visibility": null,
            "width": null
          }
        },
        "47919f88256a4b9cb6f763e1e486c256": {
          "model_module": "@jupyter-widgets/controls",
          "model_name": "DescriptionStyleModel",
          "model_module_version": "1.5.0",
          "state": {
            "_model_module": "@jupyter-widgets/controls",
            "_model_module_version": "1.5.0",
            "_model_name": "DescriptionStyleModel",
            "_view_count": null,
            "_view_module": "@jupyter-widgets/base",
            "_view_module_version": "1.2.0",
            "_view_name": "StyleView",
            "description_width": ""
          }
        },
        "3d69bc93f04d47949e54a2badf3c1d3f": {
          "model_module": "@jupyter-widgets/base",
          "model_name": "LayoutModel",
          "model_module_version": "1.2.0",
          "state": {
            "_model_module": "@jupyter-widgets/base",
            "_model_module_version": "1.2.0",
            "_model_name": "LayoutModel",
            "_view_count": null,
            "_view_module": "@jupyter-widgets/base",
            "_view_module_version": "1.2.0",
            "_view_name": "LayoutView",
            "align_content": null,
            "align_items": null,
            "align_self": null,
            "border": null,
            "bottom": null,
            "display": null,
            "flex": null,
            "flex_flow": null,
            "grid_area": null,
            "grid_auto_columns": null,
            "grid_auto_flow": null,
            "grid_auto_rows": null,
            "grid_column": null,
            "grid_gap": null,
            "grid_row": null,
            "grid_template_areas": null,
            "grid_template_columns": null,
            "grid_template_rows": null,
            "height": null,
            "justify_content": null,
            "justify_items": null,
            "left": null,
            "margin": null,
            "max_height": null,
            "max_width": null,
            "min_height": null,
            "min_width": null,
            "object_fit": null,
            "object_position": null,
            "order": null,
            "overflow": null,
            "overflow_x": null,
            "overflow_y": null,
            "padding": null,
            "right": null,
            "top": null,
            "visibility": null,
            "width": null
          }
        },
        "9bda41c6bd8e44b98f765d2d68ad56c8": {
          "model_module": "@jupyter-widgets/controls",
          "model_name": "ProgressStyleModel",
          "model_module_version": "1.5.0",
          "state": {
            "_model_module": "@jupyter-widgets/controls",
            "_model_module_version": "1.5.0",
            "_model_name": "ProgressStyleModel",
            "_view_count": null,
            "_view_module": "@jupyter-widgets/base",
            "_view_module_version": "1.2.0",
            "_view_name": "StyleView",
            "bar_color": null,
            "description_width": ""
          }
        },
        "10dfb1ff094c4938a2ce777335962b16": {
          "model_module": "@jupyter-widgets/base",
          "model_name": "LayoutModel",
          "model_module_version": "1.2.0",
          "state": {
            "_model_module": "@jupyter-widgets/base",
            "_model_module_version": "1.2.0",
            "_model_name": "LayoutModel",
            "_view_count": null,
            "_view_module": "@jupyter-widgets/base",
            "_view_module_version": "1.2.0",
            "_view_name": "LayoutView",
            "align_content": null,
            "align_items": null,
            "align_self": null,
            "border": null,
            "bottom": null,
            "display": null,
            "flex": null,
            "flex_flow": null,
            "grid_area": null,
            "grid_auto_columns": null,
            "grid_auto_flow": null,
            "grid_auto_rows": null,
            "grid_column": null,
            "grid_gap": null,
            "grid_row": null,
            "grid_template_areas": null,
            "grid_template_columns": null,
            "grid_template_rows": null,
            "height": null,
            "justify_content": null,
            "justify_items": null,
            "left": null,
            "margin": null,
            "max_height": null,
            "max_width": null,
            "min_height": null,
            "min_width": null,
            "object_fit": null,
            "object_position": null,
            "order": null,
            "overflow": null,
            "overflow_x": null,
            "overflow_y": null,
            "padding": null,
            "right": null,
            "top": null,
            "visibility": null,
            "width": null
          }
        },
        "0d1f2795cd37457190e442f05eee0c76": {
          "model_module": "@jupyter-widgets/controls",
          "model_name": "DescriptionStyleModel",
          "model_module_version": "1.5.0",
          "state": {
            "_model_module": "@jupyter-widgets/controls",
            "_model_module_version": "1.5.0",
            "_model_name": "DescriptionStyleModel",
            "_view_count": null,
            "_view_module": "@jupyter-widgets/base",
            "_view_module_version": "1.2.0",
            "_view_name": "StyleView",
            "description_width": ""
          }
        },
        "d88c433e99544a6cbebc0af6d690eedd": {
          "model_module": "@jupyter-widgets/controls",
          "model_name": "HBoxModel",
          "model_module_version": "1.5.0",
          "state": {
            "_dom_classes": [],
            "_model_module": "@jupyter-widgets/controls",
            "_model_module_version": "1.5.0",
            "_model_name": "HBoxModel",
            "_view_count": null,
            "_view_module": "@jupyter-widgets/controls",
            "_view_module_version": "1.5.0",
            "_view_name": "HBoxView",
            "box_style": "",
            "children": [
              "IPY_MODEL_7958f1c8d99047b380a77f0d2f2e79ba",
              "IPY_MODEL_19b850804f3d49b190c9c550c98ee18b",
              "IPY_MODEL_dee987477fac4b2f91b355048ce91af7"
            ],
            "layout": "IPY_MODEL_3f061bb6963e4270a9504cc3cab660c8"
          }
        },
        "7958f1c8d99047b380a77f0d2f2e79ba": {
          "model_module": "@jupyter-widgets/controls",
          "model_name": "HTMLModel",
          "model_module_version": "1.5.0",
          "state": {
            "_dom_classes": [],
            "_model_module": "@jupyter-widgets/controls",
            "_model_module_version": "1.5.0",
            "_model_name": "HTMLModel",
            "_view_count": null,
            "_view_module": "@jupyter-widgets/controls",
            "_view_module_version": "1.5.0",
            "_view_name": "HTMLView",
            "description": "",
            "description_tooltip": null,
            "layout": "IPY_MODEL_d57e1eadd74e48dda5a31fafc7fd77ae",
            "placeholder": "​",
            "style": "IPY_MODEL_e52b868f29bc4801a746b5c165011b17",
            "value": "Map: 100%"
          }
        },
        "19b850804f3d49b190c9c550c98ee18b": {
          "model_module": "@jupyter-widgets/controls",
          "model_name": "FloatProgressModel",
          "model_module_version": "1.5.0",
          "state": {
            "_dom_classes": [],
            "_model_module": "@jupyter-widgets/controls",
            "_model_module_version": "1.5.0",
            "_model_name": "FloatProgressModel",
            "_view_count": null,
            "_view_module": "@jupyter-widgets/controls",
            "_view_module_version": "1.5.0",
            "_view_name": "ProgressView",
            "bar_style": "success",
            "description": "",
            "description_tooltip": null,
            "layout": "IPY_MODEL_f1ac461c80c84918a87d4475b3b102a4",
            "max": 3684,
            "min": 0,
            "orientation": "horizontal",
            "style": "IPY_MODEL_4ddc5839fc4a41f2a98eb96582325386",
            "value": 3684
          }
        },
        "dee987477fac4b2f91b355048ce91af7": {
          "model_module": "@jupyter-widgets/controls",
          "model_name": "HTMLModel",
          "model_module_version": "1.5.0",
          "state": {
            "_dom_classes": [],
            "_model_module": "@jupyter-widgets/controls",
            "_model_module_version": "1.5.0",
            "_model_name": "HTMLModel",
            "_view_count": null,
            "_view_module": "@jupyter-widgets/controls",
            "_view_module_version": "1.5.0",
            "_view_name": "HTMLView",
            "description": "",
            "description_tooltip": null,
            "layout": "IPY_MODEL_35fb5c1985294780b4c8cc80df8ee353",
            "placeholder": "​",
            "style": "IPY_MODEL_09362ac0d5604a4889c06b11150240d5",
            "value": " 3684/3684 [00:01&lt;00:00, 2292.70 examples/s]"
          }
        },
        "3f061bb6963e4270a9504cc3cab660c8": {
          "model_module": "@jupyter-widgets/base",
          "model_name": "LayoutModel",
          "model_module_version": "1.2.0",
          "state": {
            "_model_module": "@jupyter-widgets/base",
            "_model_module_version": "1.2.0",
            "_model_name": "LayoutModel",
            "_view_count": null,
            "_view_module": "@jupyter-widgets/base",
            "_view_module_version": "1.2.0",
            "_view_name": "LayoutView",
            "align_content": null,
            "align_items": null,
            "align_self": null,
            "border": null,
            "bottom": null,
            "display": null,
            "flex": null,
            "flex_flow": null,
            "grid_area": null,
            "grid_auto_columns": null,
            "grid_auto_flow": null,
            "grid_auto_rows": null,
            "grid_column": null,
            "grid_gap": null,
            "grid_row": null,
            "grid_template_areas": null,
            "grid_template_columns": null,
            "grid_template_rows": null,
            "height": null,
            "justify_content": null,
            "justify_items": null,
            "left": null,
            "margin": null,
            "max_height": null,
            "max_width": null,
            "min_height": null,
            "min_width": null,
            "object_fit": null,
            "object_position": null,
            "order": null,
            "overflow": null,
            "overflow_x": null,
            "overflow_y": null,
            "padding": null,
            "right": null,
            "top": null,
            "visibility": null,
            "width": null
          }
        },
        "d57e1eadd74e48dda5a31fafc7fd77ae": {
          "model_module": "@jupyter-widgets/base",
          "model_name": "LayoutModel",
          "model_module_version": "1.2.0",
          "state": {
            "_model_module": "@jupyter-widgets/base",
            "_model_module_version": "1.2.0",
            "_model_name": "LayoutModel",
            "_view_count": null,
            "_view_module": "@jupyter-widgets/base",
            "_view_module_version": "1.2.0",
            "_view_name": "LayoutView",
            "align_content": null,
            "align_items": null,
            "align_self": null,
            "border": null,
            "bottom": null,
            "display": null,
            "flex": null,
            "flex_flow": null,
            "grid_area": null,
            "grid_auto_columns": null,
            "grid_auto_flow": null,
            "grid_auto_rows": null,
            "grid_column": null,
            "grid_gap": null,
            "grid_row": null,
            "grid_template_areas": null,
            "grid_template_columns": null,
            "grid_template_rows": null,
            "height": null,
            "justify_content": null,
            "justify_items": null,
            "left": null,
            "margin": null,
            "max_height": null,
            "max_width": null,
            "min_height": null,
            "min_width": null,
            "object_fit": null,
            "object_position": null,
            "order": null,
            "overflow": null,
            "overflow_x": null,
            "overflow_y": null,
            "padding": null,
            "right": null,
            "top": null,
            "visibility": null,
            "width": null
          }
        },
        "e52b868f29bc4801a746b5c165011b17": {
          "model_module": "@jupyter-widgets/controls",
          "model_name": "DescriptionStyleModel",
          "model_module_version": "1.5.0",
          "state": {
            "_model_module": "@jupyter-widgets/controls",
            "_model_module_version": "1.5.0",
            "_model_name": "DescriptionStyleModel",
            "_view_count": null,
            "_view_module": "@jupyter-widgets/base",
            "_view_module_version": "1.2.0",
            "_view_name": "StyleView",
            "description_width": ""
          }
        },
        "f1ac461c80c84918a87d4475b3b102a4": {
          "model_module": "@jupyter-widgets/base",
          "model_name": "LayoutModel",
          "model_module_version": "1.2.0",
          "state": {
            "_model_module": "@jupyter-widgets/base",
            "_model_module_version": "1.2.0",
            "_model_name": "LayoutModel",
            "_view_count": null,
            "_view_module": "@jupyter-widgets/base",
            "_view_module_version": "1.2.0",
            "_view_name": "LayoutView",
            "align_content": null,
            "align_items": null,
            "align_self": null,
            "border": null,
            "bottom": null,
            "display": null,
            "flex": null,
            "flex_flow": null,
            "grid_area": null,
            "grid_auto_columns": null,
            "grid_auto_flow": null,
            "grid_auto_rows": null,
            "grid_column": null,
            "grid_gap": null,
            "grid_row": null,
            "grid_template_areas": null,
            "grid_template_columns": null,
            "grid_template_rows": null,
            "height": null,
            "justify_content": null,
            "justify_items": null,
            "left": null,
            "margin": null,
            "max_height": null,
            "max_width": null,
            "min_height": null,
            "min_width": null,
            "object_fit": null,
            "object_position": null,
            "order": null,
            "overflow": null,
            "overflow_x": null,
            "overflow_y": null,
            "padding": null,
            "right": null,
            "top": null,
            "visibility": null,
            "width": null
          }
        },
        "4ddc5839fc4a41f2a98eb96582325386": {
          "model_module": "@jupyter-widgets/controls",
          "model_name": "ProgressStyleModel",
          "model_module_version": "1.5.0",
          "state": {
            "_model_module": "@jupyter-widgets/controls",
            "_model_module_version": "1.5.0",
            "_model_name": "ProgressStyleModel",
            "_view_count": null,
            "_view_module": "@jupyter-widgets/base",
            "_view_module_version": "1.2.0",
            "_view_name": "StyleView",
            "bar_color": null,
            "description_width": ""
          }
        },
        "35fb5c1985294780b4c8cc80df8ee353": {
          "model_module": "@jupyter-widgets/base",
          "model_name": "LayoutModel",
          "model_module_version": "1.2.0",
          "state": {
            "_model_module": "@jupyter-widgets/base",
            "_model_module_version": "1.2.0",
            "_model_name": "LayoutModel",
            "_view_count": null,
            "_view_module": "@jupyter-widgets/base",
            "_view_module_version": "1.2.0",
            "_view_name": "LayoutView",
            "align_content": null,
            "align_items": null,
            "align_self": null,
            "border": null,
            "bottom": null,
            "display": null,
            "flex": null,
            "flex_flow": null,
            "grid_area": null,
            "grid_auto_columns": null,
            "grid_auto_flow": null,
            "grid_auto_rows": null,
            "grid_column": null,
            "grid_gap": null,
            "grid_row": null,
            "grid_template_areas": null,
            "grid_template_columns": null,
            "grid_template_rows": null,
            "height": null,
            "justify_content": null,
            "justify_items": null,
            "left": null,
            "margin": null,
            "max_height": null,
            "max_width": null,
            "min_height": null,
            "min_width": null,
            "object_fit": null,
            "object_position": null,
            "order": null,
            "overflow": null,
            "overflow_x": null,
            "overflow_y": null,
            "padding": null,
            "right": null,
            "top": null,
            "visibility": null,
            "width": null
          }
        },
        "09362ac0d5604a4889c06b11150240d5": {
          "model_module": "@jupyter-widgets/controls",
          "model_name": "DescriptionStyleModel",
          "model_module_version": "1.5.0",
          "state": {
            "_model_module": "@jupyter-widgets/controls",
            "_model_module_version": "1.5.0",
            "_model_name": "DescriptionStyleModel",
            "_view_count": null,
            "_view_module": "@jupyter-widgets/base",
            "_view_module_version": "1.2.0",
            "_view_name": "StyleView",
            "description_width": ""
          }
        }
      }
    }
  },
  "cells": [
    {
      "cell_type": "markdown",
      "source": [
        "# Step 1: Install Packages and Import Dependencies"
      ],
      "metadata": {
        "id": "6ftvnkQ41iGl"
      }
    },
    {
      "cell_type": "code",
      "source": [
        "!pip install -q seqeval ## to calculate evaluation metrics for NER\n",
        "!pip install -q transformers ## to load pre-trained model\n",
        "!pip install -q datasets ## to read dataset\n",
        "!pip install evaluate ## to evaluate model\n",
        "!pip install wandb --upgrade  ## to log model training\n",
        "!pip install torchcrf #Ensure you have a library for CRF, such as torchcrf."
      ],
      "metadata": {
        "colab": {
          "base_uri": "https://localhost:8080/"
        },
        "id": "gj1xcQiuxU4J",
        "outputId": "95255eaf-2082-414a-ef7b-cf16d8d23d25"
      },
      "execution_count": null,
      "outputs": [
        {
          "output_type": "stream",
          "name": "stdout",
          "text": [
            "\u001b[?25l     \u001b[90m━━━━━━━━━━━━━━━━━━━━━━━━━━━━━━━━━━━━━━━━\u001b[0m \u001b[32m0.0/43.6 kB\u001b[0m \u001b[31m?\u001b[0m eta \u001b[36m-:--:--\u001b[0m\r\u001b[2K     \u001b[90m━━━━━━━━━━━━━━━━━━━━━━━━━━━━━━━━━━━━━━━━\u001b[0m \u001b[32m43.6/43.6 kB\u001b[0m \u001b[31m3.1 MB/s\u001b[0m eta \u001b[36m0:00:00\u001b[0m\n",
            "\u001b[?25h  Preparing metadata (setup.py) ... \u001b[?25l\u001b[?25hdone\n",
            "  Building wheel for seqeval (setup.py) ... \u001b[?25l\u001b[?25hdone\n",
            "\u001b[2K   \u001b[90m━━━━━━━━━━━━━━━━━━━━━━━━━━━━━━━━━━━━━━━━\u001b[0m \u001b[32m480.6/480.6 kB\u001b[0m \u001b[31m22.4 MB/s\u001b[0m eta \u001b[36m0:00:00\u001b[0m\n",
            "\u001b[2K   \u001b[90m━━━━━━━━━━━━━━━━━━━━━━━━━━━━━━━━━━━━━━━━\u001b[0m \u001b[32m116.3/116.3 kB\u001b[0m \u001b[31m7.8 MB/s\u001b[0m eta \u001b[36m0:00:00\u001b[0m\n",
            "\u001b[2K   \u001b[90m━━━━━━━━━━━━━━━━━━━━━━━━━━━━━━━━━━━━━━━━\u001b[0m \u001b[32m179.3/179.3 kB\u001b[0m \u001b[31m11.5 MB/s\u001b[0m eta \u001b[36m0:00:00\u001b[0m\n",
            "\u001b[2K   \u001b[90m━━━━━━━━━━━━━━━━━━━━━━━━━━━━━━━━━━━━━━━━\u001b[0m \u001b[32m134.8/134.8 kB\u001b[0m \u001b[31m6.1 MB/s\u001b[0m eta \u001b[36m0:00:00\u001b[0m\n",
            "\u001b[2K   \u001b[90m━━━━━━━━━━━━━━━━━━━━━━━━━━━━━━━━━━━━━━━━\u001b[0m \u001b[32m194.1/194.1 kB\u001b[0m \u001b[31m11.9 MB/s\u001b[0m eta \u001b[36m0:00:00\u001b[0m\n",
            "\u001b[?25h\u001b[31mERROR: pip's dependency resolver does not currently take into account all the packages that are installed. This behaviour is the source of the following dependency conflicts.\n",
            "gcsfs 2024.10.0 requires fsspec==2024.10.0, but you have fsspec 2024.9.0 which is incompatible.\u001b[0m\u001b[31m\n",
            "\u001b[0mCollecting evaluate\n",
            "  Downloading evaluate-0.4.3-py3-none-any.whl.metadata (9.2 kB)\n",
            "Requirement already satisfied: datasets>=2.0.0 in /usr/local/lib/python3.10/dist-packages (from evaluate) (3.1.0)\n",
            "Requirement already satisfied: numpy>=1.17 in /usr/local/lib/python3.10/dist-packages (from evaluate) (1.26.4)\n",
            "Requirement already satisfied: dill in /usr/local/lib/python3.10/dist-packages (from evaluate) (0.3.8)\n",
            "Requirement already satisfied: pandas in /usr/local/lib/python3.10/dist-packages (from evaluate) (2.2.2)\n",
            "Requirement already satisfied: requests>=2.19.0 in /usr/local/lib/python3.10/dist-packages (from evaluate) (2.32.3)\n",
            "Requirement already satisfied: tqdm>=4.62.1 in /usr/local/lib/python3.10/dist-packages (from evaluate) (4.66.6)\n",
            "Requirement already satisfied: xxhash in /usr/local/lib/python3.10/dist-packages (from evaluate) (3.5.0)\n",
            "Requirement already satisfied: multiprocess in /usr/local/lib/python3.10/dist-packages (from evaluate) (0.70.16)\n",
            "Requirement already satisfied: fsspec>=2021.05.0 in /usr/local/lib/python3.10/dist-packages (from fsspec[http]>=2021.05.0->evaluate) (2024.9.0)\n",
            "Requirement already satisfied: huggingface-hub>=0.7.0 in /usr/local/lib/python3.10/dist-packages (from evaluate) (0.26.2)\n",
            "Requirement already satisfied: packaging in /usr/local/lib/python3.10/dist-packages (from evaluate) (24.2)\n",
            "Requirement already satisfied: filelock in /usr/local/lib/python3.10/dist-packages (from datasets>=2.0.0->evaluate) (3.16.1)\n",
            "Requirement already satisfied: pyarrow>=15.0.0 in /usr/local/lib/python3.10/dist-packages (from datasets>=2.0.0->evaluate) (17.0.0)\n",
            "Requirement already satisfied: aiohttp in /usr/local/lib/python3.10/dist-packages (from datasets>=2.0.0->evaluate) (3.11.2)\n",
            "Requirement already satisfied: pyyaml>=5.1 in /usr/local/lib/python3.10/dist-packages (from datasets>=2.0.0->evaluate) (6.0.2)\n",
            "Requirement already satisfied: typing-extensions>=3.7.4.3 in /usr/local/lib/python3.10/dist-packages (from huggingface-hub>=0.7.0->evaluate) (4.12.2)\n",
            "Requirement already satisfied: charset-normalizer<4,>=2 in /usr/local/lib/python3.10/dist-packages (from requests>=2.19.0->evaluate) (3.4.0)\n",
            "Requirement already satisfied: idna<4,>=2.5 in /usr/local/lib/python3.10/dist-packages (from requests>=2.19.0->evaluate) (3.10)\n",
            "Requirement already satisfied: urllib3<3,>=1.21.1 in /usr/local/lib/python3.10/dist-packages (from requests>=2.19.0->evaluate) (2.2.3)\n",
            "Requirement already satisfied: certifi>=2017.4.17 in /usr/local/lib/python3.10/dist-packages (from requests>=2.19.0->evaluate) (2024.8.30)\n",
            "Requirement already satisfied: python-dateutil>=2.8.2 in /usr/local/lib/python3.10/dist-packages (from pandas->evaluate) (2.8.2)\n",
            "Requirement already satisfied: pytz>=2020.1 in /usr/local/lib/python3.10/dist-packages (from pandas->evaluate) (2024.2)\n",
            "Requirement already satisfied: tzdata>=2022.7 in /usr/local/lib/python3.10/dist-packages (from pandas->evaluate) (2024.2)\n",
            "Requirement already satisfied: aiohappyeyeballs>=2.3.0 in /usr/local/lib/python3.10/dist-packages (from aiohttp->datasets>=2.0.0->evaluate) (2.4.3)\n",
            "Requirement already satisfied: aiosignal>=1.1.2 in /usr/local/lib/python3.10/dist-packages (from aiohttp->datasets>=2.0.0->evaluate) (1.3.1)\n",
            "Requirement already satisfied: attrs>=17.3.0 in /usr/local/lib/python3.10/dist-packages (from aiohttp->datasets>=2.0.0->evaluate) (24.2.0)\n",
            "Requirement already satisfied: frozenlist>=1.1.1 in /usr/local/lib/python3.10/dist-packages (from aiohttp->datasets>=2.0.0->evaluate) (1.5.0)\n",
            "Requirement already satisfied: multidict<7.0,>=4.5 in /usr/local/lib/python3.10/dist-packages (from aiohttp->datasets>=2.0.0->evaluate) (6.1.0)\n",
            "Requirement already satisfied: propcache>=0.2.0 in /usr/local/lib/python3.10/dist-packages (from aiohttp->datasets>=2.0.0->evaluate) (0.2.0)\n",
            "Requirement already satisfied: yarl<2.0,>=1.17.0 in /usr/local/lib/python3.10/dist-packages (from aiohttp->datasets>=2.0.0->evaluate) (1.17.2)\n",
            "Requirement already satisfied: async-timeout<6.0,>=4.0 in /usr/local/lib/python3.10/dist-packages (from aiohttp->datasets>=2.0.0->evaluate) (4.0.3)\n",
            "Requirement already satisfied: six>=1.5 in /usr/local/lib/python3.10/dist-packages (from python-dateutil>=2.8.2->pandas->evaluate) (1.16.0)\n",
            "Downloading evaluate-0.4.3-py3-none-any.whl (84 kB)\n",
            "\u001b[2K   \u001b[90m━━━━━━━━━━━━━━━━━━━━━━━━━━━━━━━━━━━━━━━━\u001b[0m \u001b[32m84.0/84.0 kB\u001b[0m \u001b[31m4.0 MB/s\u001b[0m eta \u001b[36m0:00:00\u001b[0m\n",
            "\u001b[?25hInstalling collected packages: evaluate\n",
            "Successfully installed evaluate-0.4.3\n",
            "Requirement already satisfied: wandb in /usr/local/lib/python3.10/dist-packages (0.18.7)\n",
            "Requirement already satisfied: click!=8.0.0,>=7.1 in /usr/local/lib/python3.10/dist-packages (from wandb) (8.1.7)\n",
            "Requirement already satisfied: docker-pycreds>=0.4.0 in /usr/local/lib/python3.10/dist-packages (from wandb) (0.4.0)\n",
            "Requirement already satisfied: gitpython!=3.1.29,>=1.0.0 in /usr/local/lib/python3.10/dist-packages (from wandb) (3.1.43)\n",
            "Requirement already satisfied: platformdirs in /usr/local/lib/python3.10/dist-packages (from wandb) (4.3.6)\n",
            "Requirement already satisfied: protobuf!=4.21.0,!=5.28.0,<6,>=3.19.0 in /usr/local/lib/python3.10/dist-packages (from wandb) (4.25.5)\n",
            "Requirement already satisfied: psutil>=5.0.0 in /usr/local/lib/python3.10/dist-packages (from wandb) (5.9.5)\n",
            "Requirement already satisfied: pyyaml in /usr/local/lib/python3.10/dist-packages (from wandb) (6.0.2)\n",
            "Requirement already satisfied: requests<3,>=2.0.0 in /usr/local/lib/python3.10/dist-packages (from wandb) (2.32.3)\n",
            "Requirement already satisfied: sentry-sdk>=2.0.0 in /usr/local/lib/python3.10/dist-packages (from wandb) (2.18.0)\n",
            "Requirement already satisfied: setproctitle in /usr/local/lib/python3.10/dist-packages (from wandb) (1.3.4)\n",
            "Requirement already satisfied: setuptools in /usr/local/lib/python3.10/dist-packages (from wandb) (75.1.0)\n",
            "Requirement already satisfied: typing-extensions<5,>=4.4 in /usr/local/lib/python3.10/dist-packages (from wandb) (4.12.2)\n",
            "Requirement already satisfied: six>=1.4.0 in /usr/local/lib/python3.10/dist-packages (from docker-pycreds>=0.4.0->wandb) (1.16.0)\n",
            "Requirement already satisfied: gitdb<5,>=4.0.1 in /usr/local/lib/python3.10/dist-packages (from gitpython!=3.1.29,>=1.0.0->wandb) (4.0.11)\n",
            "Requirement already satisfied: charset-normalizer<4,>=2 in /usr/local/lib/python3.10/dist-packages (from requests<3,>=2.0.0->wandb) (3.4.0)\n",
            "Requirement already satisfied: idna<4,>=2.5 in /usr/local/lib/python3.10/dist-packages (from requests<3,>=2.0.0->wandb) (3.10)\n",
            "Requirement already satisfied: urllib3<3,>=1.21.1 in /usr/local/lib/python3.10/dist-packages (from requests<3,>=2.0.0->wandb) (2.2.3)\n",
            "Requirement already satisfied: certifi>=2017.4.17 in /usr/local/lib/python3.10/dist-packages (from requests<3,>=2.0.0->wandb) (2024.8.30)\n",
            "Requirement already satisfied: smmap<6,>=3.0.1 in /usr/local/lib/python3.10/dist-packages (from gitdb<5,>=4.0.1->gitpython!=3.1.29,>=1.0.0->wandb) (5.0.1)\n",
            "Collecting torchcrf\n",
            "  Downloading TorchCRF-1.1.0-py3-none-any.whl.metadata (2.3 kB)\n",
            "Requirement already satisfied: numpy in /usr/local/lib/python3.10/dist-packages (from torchcrf) (1.26.4)\n",
            "Requirement already satisfied: torch>=1.0.0 in /usr/local/lib/python3.10/dist-packages (from torchcrf) (2.5.1+cu121)\n",
            "Requirement already satisfied: filelock in /usr/local/lib/python3.10/dist-packages (from torch>=1.0.0->torchcrf) (3.16.1)\n",
            "Requirement already satisfied: typing-extensions>=4.8.0 in /usr/local/lib/python3.10/dist-packages (from torch>=1.0.0->torchcrf) (4.12.2)\n",
            "Requirement already satisfied: networkx in /usr/local/lib/python3.10/dist-packages (from torch>=1.0.0->torchcrf) (3.4.2)\n",
            "Requirement already satisfied: jinja2 in /usr/local/lib/python3.10/dist-packages (from torch>=1.0.0->torchcrf) (3.1.4)\n",
            "Requirement already satisfied: fsspec in /usr/local/lib/python3.10/dist-packages (from torch>=1.0.0->torchcrf) (2024.9.0)\n",
            "Requirement already satisfied: sympy==1.13.1 in /usr/local/lib/python3.10/dist-packages (from torch>=1.0.0->torchcrf) (1.13.1)\n",
            "Requirement already satisfied: mpmath<1.4,>=1.1.0 in /usr/local/lib/python3.10/dist-packages (from sympy==1.13.1->torch>=1.0.0->torchcrf) (1.3.0)\n",
            "Requirement already satisfied: MarkupSafe>=2.0 in /usr/local/lib/python3.10/dist-packages (from jinja2->torch>=1.0.0->torchcrf) (3.0.2)\n",
            "Downloading TorchCRF-1.1.0-py3-none-any.whl (5.2 kB)\n",
            "Installing collected packages: torchcrf\n",
            "Successfully installed torchcrf-1.1.0\n"
          ]
        }
      ]
    },
    {
      "cell_type": "markdown",
      "source": [
        "## Step 2: Check CUDA Availability and Device Information"
      ],
      "metadata": {
        "id": "S3yiMkq7j28y"
      }
    },
    {
      "cell_type": "code",
      "source": [
        "# print(\"CUDA available:\", torch.cuda.is_available())\n",
        "# print(\"Current device index:\", torch.cuda.current_device())\n",
        "# print(\"Device name:\", torch.cuda.get_device_name(torch.cuda.current_device()))"
      ],
      "metadata": {
        "id": "xurKusKIEYpy"
      },
      "execution_count": null,
      "outputs": []
    },
    {
      "cell_type": "code",
      "source": [
        "import torch ## PyTorch for deep learning\n",
        "from transformers import AutoTokenizer, AutoModelForTokenClassification, Trainer, TrainingArguments ## Hugging Face Transformers\n",
        "from datasets import load_dataset, Dataset, DatasetDict ## Hugging Face Datasets\n",
        "import numpy as np  ## NumPy for numerical operations\n",
        "from evaluate import load ## Hugging Face's evaluation library\n",
        "from seqeval.metrics import f1_score, precision_score, recall_score, classification_report  ## SeqEval for evaluation metrics"
      ],
      "metadata": {
        "id": "6YnrlbEzyqtd"
      },
      "execution_count": null,
      "outputs": []
    },
    {
      "cell_type": "markdown",
      "source": [
        "## Step 3: Read and Prepare Data"
      ],
      "metadata": {
        "id": "jvrYwPWpKvSm"
      }
    },
    {
      "cell_type": "code",
      "source": [
        "def read_conll_file(file_path):\n",
        "    with open(file_path, \"r\") as f:\n",
        "        content = f.read().strip()\n",
        "        sentences = content.split(\"\\n\\n\")\n",
        "        data = []\n",
        "        for sentence in sentences:\n",
        "            tokens = sentence.split(\"\\n\")\n",
        "            token_data = []\n",
        "            for token in tokens:\n",
        "                token_data.append(token.split())\n",
        "            data.append(token_data)\n",
        "    return data"
      ],
      "metadata": {
        "id": "RoUtstMxyq1I"
      },
      "execution_count": null,
      "outputs": []
    },
    {
      "cell_type": "code",
      "source": [
        "## read data from files dataset\n",
        "train_data = read_conll_file(\"/content/drive/MyDrive/conll2003/eng.train\")\n",
        "validation_data = read_conll_file(\"/content/drive/MyDrive/conll2003/eng.testa\")\n",
        "test_data = read_conll_file(\"/content/drive/MyDrive/conll2003/eng.testb\")"
      ],
      "metadata": {
        "id": "Js79-fBPyq5J"
      },
      "execution_count": 13,
      "outputs": []
    },
    {
      "cell_type": "code",
      "source": [
        "from google.colab import drive\n",
        "drive.mount('/content/drive')"
      ],
      "metadata": {
        "id": "f2ulihGoeE2E",
        "colab": {
          "base_uri": "https://localhost:8080/"
        },
        "outputId": "73352120-530f-4f48-e1f8-a3baa453256b"
      },
      "execution_count": 12,
      "outputs": [
        {
          "output_type": "stream",
          "name": "stdout",
          "text": [
            "Mounted at /content/drive\n"
          ]
        }
      ]
    },
    {
      "cell_type": "code",
      "source": [
        "## example of Training data\n",
        "train_data[0:2]"
      ],
      "metadata": {
        "colab": {
          "base_uri": "https://localhost:8080/"
        },
        "id": "nWjrR9zayq7c",
        "outputId": "f0768163-3721-4b4d-cd39-c7ac4c1dc28a"
      },
      "execution_count": 14,
      "outputs": [
        {
          "output_type": "execute_result",
          "data": {
            "text/plain": [
              "[[['-DOCSTART-', '-X-', '-X-', 'O']],\n",
              " [['EU', 'NNP', 'B-NP', 'B-ORG'],\n",
              "  ['rejects', 'VBZ', 'B-VP', 'O'],\n",
              "  ['German', 'JJ', 'B-NP', 'B-MISC'],\n",
              "  ['call', 'NN', 'I-NP', 'O'],\n",
              "  ['to', 'TO', 'B-VP', 'O'],\n",
              "  ['boycott', 'VB', 'I-VP', 'O'],\n",
              "  ['British', 'JJ', 'B-NP', 'B-MISC'],\n",
              "  ['lamb', 'NN', 'I-NP', 'O'],\n",
              "  ['.', '.', 'O', 'O']]]"
            ]
          },
          "metadata": {},
          "execution_count": 14
        }
      ]
    },
    {
      "cell_type": "code",
      "source": [
        "## size of every part of data we have.\n",
        "print(f\"Train-data size {len(train_data)} sentences\")\n",
        "print(f\"Validation-data size {len(validation_data)} sentences\")\n",
        "print(f\"Test-data size {len(test_data)} sentences\")"
      ],
      "metadata": {
        "colab": {
          "base_uri": "https://localhost:8080/"
        },
        "id": "gHsdsqCJyq_N",
        "outputId": "969eccc9-10d2-42d4-9b58-892bb8d24a28"
      },
      "execution_count": 15,
      "outputs": [
        {
          "output_type": "stream",
          "name": "stdout",
          "text": [
            "Train-data size 14987 sentences\n",
            "Validation-data size 3466 sentences\n",
            "Test-data size 3684 sentences\n"
          ]
        }
      ]
    },
    {
      "cell_type": "code",
      "source": [
        "### convert our data to Features and label\n",
        "def convert_to_dataset(data, label_map):\n",
        "    formatted_data = {\"tokens\": [], \"ner_tags\": []}\n",
        "    for sentence in data:\n",
        "        tokens = [token_data[0] for token_data in sentence]\n",
        "        ner_tags = [label_map[token_data[3]] for token_data in sentence]\n",
        "        formatted_data[\"tokens\"].append(tokens)\n",
        "        formatted_data[\"ner_tags\"].append(ner_tags)\n",
        "    return Dataset.from_dict(formatted_data)"
      ],
      "metadata": {
        "id": "WYAq0h26yrBs"
      },
      "execution_count": 16,
      "outputs": []
    },
    {
      "cell_type": "code",
      "source": [
        "## create map for our label list\n",
        "label_list = sorted(list(set([token_data[3] for sentence in train_data for token_data in sentence])))\n",
        "label_map = {label: i for i, label in enumerate(label_list)}\n",
        "print(f\"label List:{label_list}\")\n",
        "print(\"_\"*70)\n",
        "print(f\"label Map:{label_map}\")"
      ],
      "metadata": {
        "colab": {
          "base_uri": "https://localhost:8080/"
        },
        "id": "4u3Jwke8sKAp",
        "outputId": "7479997c-41f9-4849-a225-e1d8a59bfee8"
      },
      "execution_count": 17,
      "outputs": [
        {
          "output_type": "stream",
          "name": "stdout",
          "text": [
            "label List:['B-LOC', 'B-MISC', 'B-ORG', 'B-PER', 'I-LOC', 'I-MISC', 'I-ORG', 'I-PER', 'O']\n",
            "______________________________________________________________________\n",
            "label Map:{'B-LOC': 0, 'B-MISC': 1, 'B-ORG': 2, 'B-PER': 3, 'I-LOC': 4, 'I-MISC': 5, 'I-ORG': 6, 'I-PER': 7, 'O': 8}\n"
          ]
        }
      ]
    },
    {
      "cell_type": "code",
      "source": [
        "## Apply function convert_to_dataset for make my data ready for model\n",
        "train_dataset = convert_to_dataset(train_data, label_map)\n",
        "validation_dataset = convert_to_dataset(validation_data, label_map)\n",
        "test_dataset = convert_to_dataset(test_data, label_map)"
      ],
      "metadata": {
        "id": "tH0jDIQCwkfQ"
      },
      "execution_count": 18,
      "outputs": []
    },
    {
      "cell_type": "code",
      "source": [
        "## collect dataset in one dict\n",
        "datasets = DatasetDict({\n",
        "    \"train\": train_dataset,\n",
        "    \"validation\": validation_dataset,\n",
        "    \"test\": test_dataset,\n",
        "})\n",
        "print(f\"describe dataset we have \\n{datasets}\")"
      ],
      "metadata": {
        "id": "ZGpIGYsMw9wa",
        "colab": {
          "base_uri": "https://localhost:8080/"
        },
        "outputId": "e9a4199b-118b-45d9-a183-8c0e0e9104af"
      },
      "execution_count": 19,
      "outputs": [
        {
          "output_type": "stream",
          "name": "stdout",
          "text": [
            "describe dataset we have \n",
            "DatasetDict({\n",
            "    train: Dataset({\n",
            "        features: ['tokens', 'ner_tags'],\n",
            "        num_rows: 14987\n",
            "    })\n",
            "    validation: Dataset({\n",
            "        features: ['tokens', 'ner_tags'],\n",
            "        num_rows: 3466\n",
            "    })\n",
            "    test: Dataset({\n",
            "        features: ['tokens', 'ner_tags'],\n",
            "        num_rows: 3684\n",
            "    })\n",
            "})\n"
          ]
        }
      ]
    },
    {
      "cell_type": "markdown",
      "source": [
        "## Step 4: Initialize Tokenizer and Model"
      ],
      "metadata": {
        "id": "Ay3w4P7DfJwN"
      }
    },
    {
      "cell_type": "code",
      "source": [
        "model_name = \"bert-base-cased\"\n",
        "tokenizer = AutoTokenizer.from_pretrained(model_name)\n",
        "model = AutoModelForTokenClassification.from_pretrained(model_name, num_labels=len(label_list))"
      ],
      "metadata": {
        "colab": {
          "base_uri": "https://localhost:8080/",
          "height": 336,
          "referenced_widgets": [
            "c22079b784af4099adddd425c6411834",
            "001131f4d25c459fb32d2c7fe39d4129",
            "0c9077c0142a4f7fbc6b52d266ea882f",
            "ba0522d0f1fe4a18b23073eb9d9426a8",
            "1a9015bd719d46c2be8b2ec577eb7a6d",
            "90050e9246a64e008e76ffd79063d886",
            "46023a378814449494adaf97261ac2a3",
            "5244d5f1c28047aaa413141f4b90077a",
            "a86f2abb42f9464aa48c1ba5e1576a75",
            "f81abbdc7a934d158cc3e7f800f481de",
            "5274289e197c46cf98dae1dca952f37b",
            "cda23b6712744b55b9a7bfbf11ba04dd",
            "2b400744192844599fc7a9a320212f12",
            "7e3fb17e61d84f8fbe2c380ee0c179ad",
            "bc8b9d140f9a45d0bb1583e9521aad59",
            "526db10de63b41eba455f39229f970a6",
            "5a4dc2a0f5e34392901c57062eb308e7",
            "d0b39a5340734e76b062ae26238e3224",
            "2ab3f0436ed04640ab1d29de5f388d9c",
            "0be33d9172f042d0ab501b9a552b8a90",
            "a3b383d86ff64babbd790bcdc45355b6",
            "f1f94203bd41472eae9b107be48f2d2f",
            "1f1104264c1743dcbe591e6fb95ad7ea",
            "8542fb7fe0584ed393f396de57aefafb",
            "77e786333c1c4e4fb91dbdea31d1835c",
            "9e5645d6869749a2920fdfa1bc4ecc28",
            "7d517b9f74f241f2887a21837654602d",
            "eacad02c71024d5dbfdfeef464ee1048",
            "6f7a692f14164bec8263db986b6097c7",
            "3b8600119e194321a7ad2c0e51fdc38f",
            "78ace94aab5648dc8f000dda37776cec",
            "3b33bb17ed4145db97d11d7aad69cb8d",
            "6098033af7264afba70f3e6912d19e25",
            "d2bdbb0d86424ae6ae617f75aa84f1ee",
            "998459d6084143598334e6518eb34a99",
            "4600fac32303435caebbf305963c4b4d",
            "053321de7d27451c8519c8e0161d3927",
            "9db83e1ca3fe4b2b9889ea6de2f9d49c",
            "f431a65579c54e0990a11cf0626ee869",
            "e8efbeccf9e94aa2b01442b9bf9cdd83",
            "3811cad474e340b2a72e343b4dc55322",
            "49aedc73ebd049a0bcec7096a6bafd34",
            "a68874d105174268a4448e4f6ad0f0fc",
            "87835111107742ee8600b841dba2c4ea",
            "bfe235a37481496db38797f777b39abc",
            "114cadf6899748bdb1c8074b48825909",
            "fe4eef4002d044dea661ab740738dd83",
            "605df388edcb4166be1ffc81d6c69fab",
            "96a3c25d31e44688ae299308fd30bb61",
            "64473baafabc4c1caf8f3d60fbe6c62f",
            "896dc6bee48947eaa8ade3e4deec4e58",
            "cba226955e5447728d08c69b1ef9824a",
            "c6a2c7bdd86449f5b03521d2861b2aff",
            "3aa60d7a0ee94d989c37a9e838b88ec5",
            "4417e9c0dc5041d68cecad597cf2cd51"
          ]
        },
        "id": "ojjYDX2jEd2y",
        "outputId": "656d984f-8c44-4d9b-ea6c-850554aa9730"
      },
      "execution_count": 20,
      "outputs": [
        {
          "output_type": "stream",
          "name": "stderr",
          "text": [
            "/usr/local/lib/python3.10/dist-packages/huggingface_hub/utils/_auth.py:94: UserWarning: \n",
            "The secret `HF_TOKEN` does not exist in your Colab secrets.\n",
            "To authenticate with the Hugging Face Hub, create a token in your settings tab (https://huggingface.co/settings/tokens), set it as secret in your Google Colab and restart your session.\n",
            "You will be able to reuse this secret in all of your notebooks.\n",
            "Please note that authentication is recommended but still optional to access public models or datasets.\n",
            "  warnings.warn(\n"
          ]
        },
        {
          "output_type": "display_data",
          "data": {
            "text/plain": [
              "tokenizer_config.json:   0%|          | 0.00/49.0 [00:00<?, ?B/s]"
            ],
            "application/vnd.jupyter.widget-view+json": {
              "version_major": 2,
              "version_minor": 0,
              "model_id": "c22079b784af4099adddd425c6411834"
            }
          },
          "metadata": {}
        },
        {
          "output_type": "display_data",
          "data": {
            "text/plain": [
              "config.json:   0%|          | 0.00/570 [00:00<?, ?B/s]"
            ],
            "application/vnd.jupyter.widget-view+json": {
              "version_major": 2,
              "version_minor": 0,
              "model_id": "cda23b6712744b55b9a7bfbf11ba04dd"
            }
          },
          "metadata": {}
        },
        {
          "output_type": "display_data",
          "data": {
            "text/plain": [
              "vocab.txt:   0%|          | 0.00/213k [00:00<?, ?B/s]"
            ],
            "application/vnd.jupyter.widget-view+json": {
              "version_major": 2,
              "version_minor": 0,
              "model_id": "1f1104264c1743dcbe591e6fb95ad7ea"
            }
          },
          "metadata": {}
        },
        {
          "output_type": "display_data",
          "data": {
            "text/plain": [
              "tokenizer.json:   0%|          | 0.00/436k [00:00<?, ?B/s]"
            ],
            "application/vnd.jupyter.widget-view+json": {
              "version_major": 2,
              "version_minor": 0,
              "model_id": "d2bdbb0d86424ae6ae617f75aa84f1ee"
            }
          },
          "metadata": {}
        },
        {
          "output_type": "display_data",
          "data": {
            "text/plain": [
              "model.safetensors:   0%|          | 0.00/436M [00:00<?, ?B/s]"
            ],
            "application/vnd.jupyter.widget-view+json": {
              "version_major": 2,
              "version_minor": 0,
              "model_id": "bfe235a37481496db38797f777b39abc"
            }
          },
          "metadata": {}
        },
        {
          "output_type": "stream",
          "name": "stderr",
          "text": [
            "Some weights of BertForTokenClassification were not initialized from the model checkpoint at bert-base-cased and are newly initialized: ['classifier.bias', 'classifier.weight']\n",
            "You should probably TRAIN this model on a down-stream task to be able to use it for predictions and inference.\n"
          ]
        }
      ]
    },
    {
      "cell_type": "code",
      "source": [
        "def compute_metrics(eval_prediction):\n",
        "    predictions, labels = eval_prediction\n",
        "    predictions = np.argmax(predictions, axis=2)\n",
        "\n",
        "\n",
        "    # Remove ignored index (special tokens)\n",
        "    true_predictions = [\n",
        "        [label_list[p] for (p, l) in zip(prediction, label) if l != -100]\n",
        "        for prediction, label in zip(predictions, labels)\n",
        "    ]\n",
        "    true_labels = [\n",
        "        [label_list[l] for (p, l) in zip(prediction, label) if l != -100]\n",
        "        for prediction, label in zip(predictions, labels)\n",
        "    ]\n",
        "\n",
        "\n",
        "    return {\n",
        "        \"precision\": precision_score(true_labels, true_predictions),\n",
        "        \"recall\": recall_score(true_labels, true_predictions),\n",
        "        \"f1\": f1_score(true_labels, true_predictions),\n",
        "        \"classification_report\": classification_report(true_labels, true_predictions),\n",
        "    }"
      ],
      "metadata": {
        "id": "8Dlh5oMIfZTM"
      },
      "execution_count": 21,
      "outputs": []
    },
    {
      "cell_type": "code",
      "source": [
        "def tokenize_and_align_labels(examples):\n",
        "    tokenized_inputs = tokenizer(\n",
        "        examples[\"tokens\"], truncation=True, is_split_into_words=True, padding=True\n",
        "    )\n",
        "    labels = []\n",
        "    for i, label in enumerate(examples[\"ner_tags\"]):\n",
        "        word_ids = tokenized_inputs.word_ids(batch_index=i)\n",
        "        previous_word_idx = None\n",
        "        label_ids = []\n",
        "        for word_idx in word_ids:\n",
        "            if word_idx is None:\n",
        "                label_ids.append(-100)\n",
        "            elif word_idx != previous_word_idx:\n",
        "                label_ids.append(label[word_idx])\n",
        "            else:\n",
        "                label_ids.append(-100)\n",
        "            previous_word_idx = word_idx\n",
        "        labels.append(label_ids)\n",
        "    tokenized_inputs[\"labels\"] = labels\n",
        "    return tokenized_inputs"
      ],
      "metadata": {
        "id": "8c-CKXZtw92w"
      },
      "execution_count": 22,
      "outputs": []
    },
    {
      "cell_type": "markdown",
      "source": [
        "## Step 6: Tokenize Datasets and Set Training Arguments"
      ],
      "metadata": {
        "id": "_jjjIHKunNjH"
      }
    },
    {
      "cell_type": "code",
      "source": [
        "tokenized_datasets = datasets.map(tokenize_and_align_labels, batched=True)\n",
        "training_args = TrainingArguments(\n",
        "    output_dir=\"./results\",  # Directory to save model outputs\n",
        "    evaluation_strategy=\"steps\", # Evaluate every `eval_steps` steps\n",
        "    eval_steps=500, # How often to evaluate\n",
        "    save_steps=500,# How often to save the model\n",
        "    num_train_epochs=1,# Number of training epochs\n",
        "    per_device_train_batch_size=8,# Batch size for training\n",
        "    per_device_eval_batch_size=8,# Batch size for evaluation\n",
        "    logging_steps=100,# Log every `logging_steps` steps\n",
        "    learning_rate=5e-5,# Learning rate\n",
        "    load_best_model_at_end=True,# Load best model based on evaluation metric\n",
        "    metric_for_best_model=\"f1\", # Metric used to determine best model\n",
        "    report_to=[], # Disable wandb logging\n",
        "    no_cuda=False,  # Ensure CUDA is enabled if available\n",
        "    push_to_hub=False\n",
        ")"
      ],
      "metadata": {
        "id": "-g_NOFATw95l",
        "colab": {
          "base_uri": "https://localhost:8080/",
          "height": 168,
          "referenced_widgets": [
            "3a8f5008d6ef4104881dc3b91dc0a103",
            "edde6fcfd6904d4692f42d716b8ac65c",
            "7d03b2f1d54e4add81a9c16c3c970325",
            "9f2be7767471487fb0822393884846a3",
            "8b7acec7450d4ea6888f6070a1f0f6b7",
            "2aef53738f804986887e8a762175ac2a",
            "692687a626e647878f7e375f0639c939",
            "fd54e936f776471685a2c073d8998f1f",
            "e59bfea7302e449691b3fe84e9c87cc3",
            "4e0ed8fe2bc6481f87ba0aab99688444",
            "010a8600a2f54e82a0796cd524a72579",
            "e2b9eb2366b9444a81608f444ea8e79c",
            "07ceda6de93d40cf91412123fb6b5a8b",
            "145414eb1af14c3f92f3d28538323745",
            "5d83d333bcb54771b786c2c010cb1ff2",
            "740fe8cc3a054816b2f085a64df2b252",
            "13cd3b4447c84a6e9b69b22555135bd9",
            "47919f88256a4b9cb6f763e1e486c256",
            "3d69bc93f04d47949e54a2badf3c1d3f",
            "9bda41c6bd8e44b98f765d2d68ad56c8",
            "10dfb1ff094c4938a2ce777335962b16",
            "0d1f2795cd37457190e442f05eee0c76",
            "d88c433e99544a6cbebc0af6d690eedd",
            "7958f1c8d99047b380a77f0d2f2e79ba",
            "19b850804f3d49b190c9c550c98ee18b",
            "dee987477fac4b2f91b355048ce91af7",
            "3f061bb6963e4270a9504cc3cab660c8",
            "d57e1eadd74e48dda5a31fafc7fd77ae",
            "e52b868f29bc4801a746b5c165011b17",
            "f1ac461c80c84918a87d4475b3b102a4",
            "4ddc5839fc4a41f2a98eb96582325386",
            "35fb5c1985294780b4c8cc80df8ee353",
            "09362ac0d5604a4889c06b11150240d5"
          ]
        },
        "outputId": "18975602-d8b3-4ca7-ec29-74c731618e6d"
      },
      "execution_count": 23,
      "outputs": [
        {
          "output_type": "display_data",
          "data": {
            "text/plain": [
              "Map:   0%|          | 0/14987 [00:00<?, ? examples/s]"
            ],
            "application/vnd.jupyter.widget-view+json": {
              "version_major": 2,
              "version_minor": 0,
              "model_id": "3a8f5008d6ef4104881dc3b91dc0a103"
            }
          },
          "metadata": {}
        },
        {
          "output_type": "display_data",
          "data": {
            "text/plain": [
              "Map:   0%|          | 0/3466 [00:00<?, ? examples/s]"
            ],
            "application/vnd.jupyter.widget-view+json": {
              "version_major": 2,
              "version_minor": 0,
              "model_id": "e2b9eb2366b9444a81608f444ea8e79c"
            }
          },
          "metadata": {}
        },
        {
          "output_type": "display_data",
          "data": {
            "text/plain": [
              "Map:   0%|          | 0/3684 [00:00<?, ? examples/s]"
            ],
            "application/vnd.jupyter.widget-view+json": {
              "version_major": 2,
              "version_minor": 0,
              "model_id": "d88c433e99544a6cbebc0af6d690eedd"
            }
          },
          "metadata": {}
        },
        {
          "output_type": "stream",
          "name": "stderr",
          "text": [
            "/usr/local/lib/python3.10/dist-packages/transformers/training_args.py:1568: FutureWarning: `evaluation_strategy` is deprecated and will be removed in version 4.46 of 🤗 Transformers. Use `eval_strategy` instead\n",
            "  warnings.warn(\n"
          ]
        }
      ]
    },
    {
      "cell_type": "code",
      "source": [
        "def data_collator(data):\n",
        "    input_ids = [torch.tensor(item[\"input_ids\"]) for item in data]\n",
        "    attention_mask = [torch.tensor(item[\"attention_mask\"]) for item in data]\n",
        "    labels = [torch.tensor(item[\"labels\"]) for item in data]\n",
        "\n",
        "\n",
        "    input_ids = torch.nn.utils.rnn.pad_sequence(input_ids, batch_first=True, padding_value=tokenizer.pad_token_id)\n",
        "    attention_mask = torch.nn.utils.rnn.pad_sequence(attention_mask, batch_first=True, padding_value=0)\n",
        "    labels = torch.nn.utils.rnn.pad_sequence(labels, batch_first=True, padding_value=-100)\n",
        "\n",
        "\n",
        "    return {\n",
        "        \"input_ids\": input_ids,\n",
        "        \"attention_mask\": attention_mask,\n",
        "        \"labels\": labels,\n",
        "    }"
      ],
      "metadata": {
        "id": "PMbNe2cbw97x"
      },
      "execution_count": 24,
      "outputs": []
    },
    {
      "cell_type": "code",
      "source": [
        "trainer = Trainer(\n",
        "    model=model, #The BERT model\n",
        "    args=training_args, #specifies hyperparameters for training and evaluation.\n",
        "    train_dataset=tokenized_datasets[\"train\"], #training dataset.\n",
        "    eval_dataset=tokenized_datasets[\"validation\"], #validation dataset for evaluation during training.\n",
        "    data_collator=data_collator, #A function or object responsible for batching and padding the inputs for the model.\n",
        "    tokenizer=tokenizer, #This is useful for ensuring consistency in tokenization during evaluation.\n",
        "    compute_metrics=compute_metrics,#A custom metric function used to calculate performance metrics such as F1-score, precision, and recall.\n",
        ")"
      ],
      "metadata": {
        "id": "Dlv7P6Qvw9-5",
        "colab": {
          "base_uri": "https://localhost:8080/"
        },
        "outputId": "ab8a21de-55ee-479e-f3a1-8fba18b5d61f"
      },
      "execution_count": 25,
      "outputs": [
        {
          "output_type": "stream",
          "name": "stderr",
          "text": [
            "<ipython-input-25-55d6b3437112>:1: FutureWarning: `tokenizer` is deprecated and will be removed in version 5.0.0 for `Trainer.__init__`. Use `processing_class` instead.\n",
            "  trainer = Trainer(\n"
          ]
        }
      ]
    },
    {
      "cell_type": "code",
      "source": [
        "## try to train our model we create it\n",
        " trainer.train()"
      ],
      "metadata": {
        "id": "GvbVFCdqw-Ay",
        "colab": {
          "base_uri": "https://localhost:8080/",
          "height": 447
        },
        "outputId": "c1364ba3-31fa-4627-e1b7-744163162746"
      },
      "execution_count": null,
      "outputs": [
        {
          "output_type": "display_data",
          "data": {
            "text/plain": [
              "<IPython.core.display.HTML object>"
            ],
            "text/html": [
              "\n",
              "    <div>\n",
              "      \n",
              "      <progress value='1874' max='1874' style='width:300px; height:20px; vertical-align: middle;'></progress>\n",
              "      [1874/1874 08:24, Epoch 1/1]\n",
              "    </div>\n",
              "    <table border=\"1\" class=\"dataframe\">\n",
              "  <thead>\n",
              " <tr style=\"text-align: left;\">\n",
              "      <th>Step</th>\n",
              "      <th>Training Loss</th>\n",
              "      <th>Validation Loss</th>\n",
              "      <th>Precision</th>\n",
              "      <th>Recall</th>\n",
              "      <th>F1</th>\n",
              "      <th>Classification Report</th>\n",
              "    </tr>\n",
              "  </thead>\n",
              "  <tbody>\n",
              "    <tr>\n",
              "      <td>500</td>\n",
              "      <td>0.080100</td>\n",
              "      <td>0.075086</td>\n",
              "      <td>0.903338</td>\n",
              "      <td>0.915348</td>\n",
              "      <td>0.909304</td>\n",
              "      <td>              precision    recall  f1-score   support\n",
              "\n",
              "         LOC       0.92      0.95      0.93      1837\n",
              "        MISC       0.83      0.82      0.82       922\n",
              "         ORG       0.88      0.85      0.86      1341\n",
              "         PER       0.94      0.98      0.96      1842\n",
              "\n",
              "   micro avg       0.90      0.92      0.91      5942\n",
              "   macro avg       0.89      0.90      0.90      5942\n",
              "weighted avg       0.90      0.92      0.91      5942\n",
              "</td>\n",
              "    </tr>\n",
              "    <tr>\n",
              "      <td>1000</td>\n",
              "      <td>0.048800</td>\n",
              "      <td>0.062348</td>\n",
              "      <td>0.912828</td>\n",
              "      <td>0.930495</td>\n",
              "      <td>0.921577</td>\n",
              "      <td>              precision    recall  f1-score   support\n",
              "\n",
              "         LOC       0.92      0.96      0.94      1837\n",
              "        MISC       0.90      0.82      0.86       922\n",
              "         ORG       0.86      0.91      0.89      1341\n",
              "         PER       0.95      0.97      0.96      1842\n",
              "\n",
              "   micro avg       0.91      0.93      0.92      5942\n",
              "   macro avg       0.91      0.92      0.91      5942\n",
              "weighted avg       0.91      0.93      0.92      5942\n",
              "</td>\n",
              "    </tr>\n",
              "    <tr>\n",
              "      <td>1500</td>\n",
              "      <td>0.042800</td>\n",
              "      <td>0.043829</td>\n",
              "      <td>0.937636</td>\n",
              "      <td>0.941266</td>\n",
              "      <td>0.939447</td>\n",
              "      <td>              precision    recall  f1-score   support\n",
              "\n",
              "         LOC       0.96      0.96      0.96      1837\n",
              "        MISC       0.87      0.90      0.89       922\n",
              "         ORG       0.91      0.91      0.91      1341\n",
              "         PER       0.97      0.97      0.97      1842\n",
              "\n",
              "   micro avg       0.94      0.94      0.94      5942\n",
              "   macro avg       0.93      0.93      0.93      5942\n",
              "weighted avg       0.94      0.94      0.94      5942\n",
              "</td>\n",
              "    </tr>\n",
              "  </tbody>\n",
              "</table><p>"
            ]
          },
          "metadata": {}
        },
        {
          "output_type": "execute_result",
          "data": {
            "text/plain": [
              "TrainOutput(global_step=1874, training_loss=0.07494052777040984, metrics={'train_runtime': 504.4056, 'train_samples_per_second': 29.712, 'train_steps_per_second': 3.715, 'total_flos': 960565719981294.0, 'train_loss': 0.07494052777040984, 'epoch': 1.0})"
            ]
          },
          "metadata": {},
          "execution_count": 26
        }
      ]
    },
    {
      "cell_type": "code",
      "source": [
        "# Save the tokenizer and model\n",
        " save_directory = \"/content/drive/MyDrive/conll2003/bert_model\"  # Directory to save the model and tokenizer\n",
        " tokenizer.save_pretrained(save_directory)\n",
        " model.save_pretrained(save_directory)\n",
        " print(f\"BERT model and tokenizer saved to {save_directory}\")"
      ],
      "metadata": {
        "colab": {
          "base_uri": "https://localhost:8080/"
        },
        "id": "8hh9kVfeDunW",
        "outputId": "389ff482-b848-4048-eadb-c2393c170d6d"
      },
      "execution_count": null,
      "outputs": [
        {
          "output_type": "stream",
          "name": "stdout",
          "text": [
            "BERT model and tokenizer saved to /content/drive/MyDrive/conll2003/bert_model\n"
          ]
        }
      ]
    },
    {
      "cell_type": "code",
      "source": [
        "# Load the tokenizer and model\n",
        "save_directory = \"/content/drive/MyDrive/conll2003/bert_model\"  # Directory where the model and tokenizer are saved\n",
        "loaded_tokenizer = AutoTokenizer.from_pretrained(save_directory)\n",
        "loaded_model = AutoModelForTokenClassification.from_pretrained(save_directory)\n",
        "print(\"BERT model and tokenizer loaded successfully.\")"
      ],
      "metadata": {
        "colab": {
          "base_uri": "https://localhost:8080/"
        },
        "id": "tL0N4J43FuMO",
        "outputId": "f7356ae8-529a-4338-f7f2-fa36e1c804ce"
      },
      "execution_count": 26,
      "outputs": [
        {
          "output_type": "stream",
          "name": "stdout",
          "text": [
            "BERT model and tokenizer loaded successfully.\n"
          ]
        }
      ]
    },
    {
      "cell_type": "markdown",
      "source": [
        "## First Example"
      ],
      "metadata": {
        "id": "L7piRXcuYKSJ"
      }
    },
    {
      "cell_type": "code",
      "source": [
        "sentence = \"John Smith is a software engineer who works at Google.\"\n",
        "# Tokenize and move the input to the model's device\n",
        "tokenized_input = loaded_tokenizer(sentence, return_tensors=\"pt\").to(loaded_model.device)\n",
        "# Get model outputs\n",
        "outputs = loaded_model(**tokenized_input)\n",
        "# Decode predicted labels\n",
        "predicted_labels = outputs.logits.argmax(-1).squeeze().tolist()\n",
        "input_ids= tokenized_input[\"input_ids\"].squeeze().tolist()\n",
        "\n",
        "# Map labels and tokens to entities\n",
        "entities = []\n",
        "for idx,label_id in enumerate(predicted_labels):\n",
        "    if label_id != -100 and label_list[label_id] != \"O\": # Ignore non-entity and padding\n",
        "        token = loaded_tokenizer.convert_ids_to_tokens(input_ids[idx])\n",
        "        entity_label = label_list[label_id]\n",
        "        entities.append((token, entity_label))\n",
        "\n",
        "print(\"Named Entities - Example 1:\")\n",
        "print(\"_\"*20)\n",
        "for i,ind in enumerate(entities):\n",
        "    print(f\"{i} => {ind}\")"
      ],
      "metadata": {
        "id": "Xjqhizl2w-D0",
        "colab": {
          "base_uri": "https://localhost:8080/"
        },
        "outputId": "e914d0b5-1413-453f-ac5b-28ef38e361e7"
      },
      "execution_count": 27,
      "outputs": [
        {
          "output_type": "stream",
          "name": "stdout",
          "text": [
            "Named Entities - Example 1:\n",
            "____________________\n",
            "0 => ('John', 'B-PER')\n",
            "1 => ('Smith', 'I-PER')\n",
            "2 => ('Google', 'B-ORG')\n"
          ]
        }
      ]
    },
    {
      "cell_type": "markdown",
      "source": [
        "## Second Example"
      ],
      "metadata": {
        "id": "dyj4neZyYsxx"
      }
    },
    {
      "cell_type": "code",
      "source": [
        "sentence2 = \"The company Apple Inc. announced its new product, the iPhone 12, at a press conference held in San Francisco.\"\n",
        "# Tokenize and move the input to the model's device\n",
        "tokenized_input2 = loaded_tokenizer(sentence2, return_tensors=\"pt\").to(loaded_model.device)\n",
        "# Get model outputs\n",
        "outputs2 = loaded_model(**tokenized_input2)\n",
        "# Decode predicted labels\n",
        "predicted_labels2 = outputs2.logits.argmax(-1).squeeze().tolist()\n",
        "input_ids2= tokenized_input2[\"input_ids\"].squeeze().tolist()\n",
        "\n",
        "# Map labels and tokens to entities\n",
        "entities2 = []\n",
        "for idx,label_id in enumerate(predicted_labels2):\n",
        "    if label_id != -100 and label_list[label_id] != \"O\": # Ignore non-entity and padding\n",
        "        token2 = loaded_tokenizer.convert_ids_to_tokens(input_ids2[idx])\n",
        "        entity_label2 = label_list[label_id]\n",
        "        entities2.append((token2, entity_label2))\n",
        "\n",
        "# Print extracted entities\n",
        "\n",
        "print(\"Named Entities - Example 2:\")\n",
        "print(\"_\"*20)\n",
        "for i,ind in enumerate(entities2):\n",
        "    print(f\"{i} => {ind}\")"
      ],
      "metadata": {
        "colab": {
          "base_uri": "https://localhost:8080/"
        },
        "id": "FzfgcP6b7T4z",
        "outputId": "2dc84da9-3b66-41a0-c347-0bbbcabc3bc8"
      },
      "execution_count": 28,
      "outputs": [
        {
          "output_type": "stream",
          "name": "stdout",
          "text": [
            "Named Entities - Example 2:\n",
            "____________________\n",
            "0 => ('Apple', 'B-ORG')\n",
            "1 => ('Inc', 'I-ORG')\n",
            "2 => ('iPhone', 'B-MISC')\n",
            "3 => ('12', 'I-MISC')\n",
            "4 => ('San', 'B-LOC')\n",
            "5 => ('Francisco', 'I-LOC')\n"
          ]
        }
      ]
    },
    {
      "cell_type": "markdown",
      "source": [
        "## Named Entity Recognition (NER) with BERT + CRF"
      ],
      "metadata": {
        "id": "mBHQTt8epWdN"
      }
    },
    {
      "cell_type": "code",
      "source": [
        "!pip install torchcrf # install torchcrf to add crf layer"
      ],
      "metadata": {
        "id": "s63fq-oTLm-z",
        "colab": {
          "base_uri": "https://localhost:8080/"
        },
        "outputId": "9cd15cc5-4ce9-416b-a8fd-97bceba0f847"
      },
      "execution_count": 29,
      "outputs": [
        {
          "output_type": "stream",
          "name": "stdout",
          "text": [
            "Requirement already satisfied: torchcrf in /usr/local/lib/python3.10/dist-packages (1.1.0)\n",
            "Requirement already satisfied: numpy in /usr/local/lib/python3.10/dist-packages (from torchcrf) (1.26.4)\n",
            "Requirement already satisfied: torch>=1.0.0 in /usr/local/lib/python3.10/dist-packages (from torchcrf) (2.5.1+cu121)\n",
            "Requirement already satisfied: filelock in /usr/local/lib/python3.10/dist-packages (from torch>=1.0.0->torchcrf) (3.16.1)\n",
            "Requirement already satisfied: typing-extensions>=4.8.0 in /usr/local/lib/python3.10/dist-packages (from torch>=1.0.0->torchcrf) (4.12.2)\n",
            "Requirement already satisfied: networkx in /usr/local/lib/python3.10/dist-packages (from torch>=1.0.0->torchcrf) (3.4.2)\n",
            "Requirement already satisfied: jinja2 in /usr/local/lib/python3.10/dist-packages (from torch>=1.0.0->torchcrf) (3.1.4)\n",
            "Requirement already satisfied: fsspec in /usr/local/lib/python3.10/dist-packages (from torch>=1.0.0->torchcrf) (2024.9.0)\n",
            "Requirement already satisfied: sympy==1.13.1 in /usr/local/lib/python3.10/dist-packages (from torch>=1.0.0->torchcrf) (1.13.1)\n",
            "Requirement already satisfied: mpmath<1.4,>=1.1.0 in /usr/local/lib/python3.10/dist-packages (from sympy==1.13.1->torch>=1.0.0->torchcrf) (1.3.0)\n",
            "Requirement already satisfied: MarkupSafe>=2.0 in /usr/local/lib/python3.10/dist-packages (from jinja2->torch>=1.0.0->torchcrf) (3.0.2)\n"
          ]
        }
      ]
    },
    {
      "cell_type": "code",
      "source": [
        "from TorchCRF import CRF ## import CRF layer\n",
        "from transformers import AutoModel, AutoTokenizer ## import AutoModel and AutoTokenizer"
      ],
      "metadata": {
        "id": "uRP5zOkq9P3X"
      },
      "execution_count": 30,
      "outputs": []
    },
    {
      "cell_type": "code",
      "source": [
        "from transformers import BertModel  ## import BertModel\n",
        "import torch.nn as nn ## import nn\n",
        "class BertCRFModel(nn.Module):  ## define BertCRFModel\n",
        "    def __init__(self, model_name2, num_labels):  ## initialize the model\n",
        "        super(BertCRFModel, self).__init__()  ## call the parent class constructor\n",
        "\n",
        "        # Load pre-trained BERT model\n",
        "        self.bert = AutoModel.from_pretrained(model_name2)\n",
        "        self.num_labels = num_labels\n",
        "\n",
        "        # Conditional Random Field (CRF) layer\n",
        "        self.crf = CRF(num_labels)\n",
        "\n",
        "        # Output layer for token classification\n",
        "        self.classifier = nn.Linear(self.bert.config.hidden_size, num_labels)\n",
        "\n",
        "    def forward(self, input_ids, attention_mask=None, labels=None):\n",
        "        # Get BERT embeddings\n",
        "        outputs = self.bert(input_ids, attention_mask=attention_mask)\n",
        "        sequence_output = outputs[0]  # (batch_size, seq_len, hidden_size)\n",
        "\n",
        "        # Pass BERT output through the classifier to get logits for each token\n",
        "        logits = self.classifier(sequence_output)  # (batch_size, seq_len, num_labels)\n",
        "\n",
        "        # Masking padding tokens\n",
        "        mask = attention_mask.bool()  # Create mask from attention_mask (1 for real tokens, 0 for padding)\n",
        "\n",
        "        if labels is not None:\n",
        "            # Replace -100 labels with an ignored token that isn't part of the CRF layers' label set\n",
        "            labels = torch.where(labels == -100, torch.tensor(self.num_labels).to(labels.device), labels)\n",
        "\n",
        "            # Ensure labels are within the range [0, num_labels-1]\n",
        "            labels = torch.clamp(labels, min=0, max=self.num_labels-1)\n",
        "\n",
        "            # Compute loss using CRF\n",
        "            loss = -self.crf(logits, labels, mask=mask)  # Use mask to ignore padding tokens\n",
        "            return loss\n",
        "\n",
        "        # Otherwise, return the predicted labels\n",
        "        predictions = self.crf.viterbi_decode(logits, mask=mask)  # Decode sequences using CRF\n",
        "        return predictions"
      ],
      "metadata": {
        "id": "Aytp5ayR9QAN"
      },
      "execution_count": 31,
      "outputs": []
    },
    {
      "cell_type": "code",
      "source": [
        "def tokenize_and_align_labels2(examples):\n",
        "    # Tokenize the sentences using the tokenizer\n",
        "    tokenized_inputs2 = tokenizer(\n",
        "        examples[\"tokens\"], truncation=True, padding=True, is_split_into_words=True\n",
        "    )\n",
        "\n",
        "    # Align the labels to the tokenized inputs\n",
        "    labels = []\n",
        "    for i, label in enumerate(examples[\"ner_tags\"]):\n",
        "        word_ids = tokenized_inputs2.word_ids(i)  # Word ids for tokenized input\n",
        "        label_ids = [label[word_id] if word_id is not None else -100 for word_id in word_ids]\n",
        "        labels.append(label_ids)\n",
        "\n",
        "    tokenized_inputs2[\"labels\"] = labels  # Add labels to tokenized input\n",
        "    return tokenized_inputs2"
      ],
      "metadata": {
        "id": "o-v-k1MQPHMM"
      },
      "execution_count": 32,
      "outputs": []
    },
    {
      "cell_type": "code",
      "source": [
        "model_name2 = \"bert-base-cased\"  # Name of the pre-trained BERT model\n",
        "num_labels = len(label_list)  # Number of NER labels\n",
        "tokenizer2 = AutoTokenizer.from_pretrained(model_name2)  # Load tokenizer for the BERT model\n",
        "model_BERT_CRF = BertCRFModel(model_name2, num_labels)  # Initialize the custom BERT + CRF model"
      ],
      "metadata": {
        "id": "_tMNuYrG9QLP"
      },
      "execution_count": 33,
      "outputs": []
    },
    {
      "cell_type": "code",
      "source": [
        "def data_collator_2(data):\n",
        "    input_ids = [torch.tensor(item[\"input_ids\"]) for item in data]\n",
        "    attention_mask = [torch.tensor(item[\"attention_mask\"]) for item in data]\n",
        "    labels = [torch.tensor(item[\"labels\"]) for item in data]\n",
        "\n",
        "    input_ids = torch.nn.utils.rnn.pad_sequence(input_ids, batch_first=True, padding_value=tokenizer.pad_token_id)\n",
        "    attention_mask = torch.nn.utils.rnn.pad_sequence(attention_mask, batch_first=True, padding_value=0)\n",
        "    labels = torch.nn.utils.rnn.pad_sequence(labels, batch_first=True, padding_value=-100)\n",
        "\n",
        "    return {\n",
        "        \"input_ids\": input_ids,\n",
        "        \"attention_mask\": attention_mask,\n",
        "        \"labels\": labels,\n",
        "    }"
      ],
      "metadata": {
        "id": "iVe-Ry2cKNYW"
      },
      "execution_count": 34,
      "outputs": []
    },
    {
      "cell_type": "code",
      "source": [
        "# Remove unnecessary columns from the dataset\n",
        "tokenized_datasets2 = tokenized_datasets.remove_columns([col for col in tokenized_datasets[\"train\"].column_names if col not in [\"input_ids\", \"attention_mask\", \"labels\"]])\n",
        "\n",
        "# Define the training arguments\n",
        "training_args2 = TrainingArguments(\n",
        "    output_dir=\"./results\",  # Directory to save model outputs\n",
        "    evaluation_strategy=\"steps\", # Evaluate every `eval_steps` steps\n",
        "    eval_steps=500, # How often to evaluate\n",
        "    save_steps=500, # How often to save the model\n",
        "    num_train_epochs=1, # Number of training epochs\n",
        "    per_device_train_batch_size=8, # Batch size for training\n",
        "    per_device_eval_batch_size=8, # Batch size for evaluation\n",
        "    logging_steps=100, # Log every `logging_steps` steps\n",
        "    learning_rate=5e-5, # Learning rate\n",
        "    load_best_model_at_end=True, # Load best model based on evaluation metric\n",
        "    metric_for_best_model=\"f1\", # Metric used to determine best model\n",
        "    report_to=[], # Disable wandb logging\n",
        "    no_cuda=False,  # Ensure CUDA is enabled if available\n",
        "    push_to_hub=False,\n",
        "    remove_unused_columns=False  # Prevent automatic removal of unused columns\n",
        ")"
      ],
      "metadata": {
        "id": "L4So1HSLKtLC"
      },
      "execution_count": 35,
      "outputs": []
    },
    {
      "cell_type": "code",
      "source": [
        "# Instantiate and train the model using the Trainer\n",
        "trainer2 = Trainer(\n",
        "    model=model_BERT_CRF,  # The BERT + CRF model\n",
        "    args=training_args2,  # Training arguments\n",
        "    train_dataset=tokenized_datasets2[\"train\"],  # Training dataset\n",
        "    eval_dataset=tokenized_datasets2[\"validation\"],  # Validation dataset\n",
        "    data_collator=data_collator_2,  # Data collator\n",
        "    tokenizer=tokenizer2,  # Tokenizer for tokenization consistency\n",
        "    compute_metrics=compute_metrics,  # Custom metric function (e.g., F1-score)\n",
        ")"
      ],
      "metadata": {
        "colab": {
          "base_uri": "https://localhost:8080/"
        },
        "id": "wlNERSYz9QNv",
        "outputId": "81dc22da-3633-4766-c052-95968240bd66"
      },
      "execution_count": 36,
      "outputs": [
        {
          "output_type": "stream",
          "name": "stderr",
          "text": [
            "<ipython-input-36-48605450bb17>:2: FutureWarning: `tokenizer` is deprecated and will be removed in version 5.0.0 for `Trainer.__init__`. Use `processing_class` instead.\n",
            "  trainer2 = Trainer(\n"
          ]
        }
      ]
    },
    {
      "cell_type": "code",
      "source": [
        "# Start training\n",
        " trainer.train()"
      ],
      "metadata": {
        "colab": {
          "base_uri": "https://localhost:8080/",
          "height": 447
        },
        "id": "GonzSB389QUo",
        "outputId": "2f752a5f-b6a6-42a7-ba6b-9e6388e21efb"
      },
      "execution_count": null,
      "outputs": [
        {
          "output_type": "display_data",
          "data": {
            "text/plain": [
              "<IPython.core.display.HTML object>"
            ],
            "text/html": [
              "\n",
              "    <div>\n",
              "      \n",
              "      <progress value='1874' max='1874' style='width:300px; height:20px; vertical-align: middle;'></progress>\n",
              "      [1874/1874 09:22, Epoch 1/1]\n",
              "    </div>\n",
              "    <table border=\"1\" class=\"dataframe\">\n",
              "  <thead>\n",
              " <tr style=\"text-align: left;\">\n",
              "      <th>Step</th>\n",
              "      <th>Training Loss</th>\n",
              "      <th>Validation Loss</th>\n",
              "      <th>Precision</th>\n",
              "      <th>Recall</th>\n",
              "      <th>F1</th>\n",
              "      <th>Classification Report</th>\n",
              "    </tr>\n",
              "  </thead>\n",
              "  <tbody>\n",
              "    <tr>\n",
              "      <td>500</td>\n",
              "      <td>0.014600</td>\n",
              "      <td>0.057442</td>\n",
              "      <td>0.927038</td>\n",
              "      <td>0.930158</td>\n",
              "      <td>0.928595</td>\n",
              "      <td>              precision    recall  f1-score   support\n",
              "\n",
              "         LOC       0.96      0.94      0.95      1837\n",
              "        MISC       0.87      0.87      0.87       922\n",
              "         ORG       0.86      0.94      0.90      1341\n",
              "         PER       0.97      0.95      0.96      1842\n",
              "\n",
              "   micro avg       0.93      0.93      0.93      5942\n",
              "   macro avg       0.92      0.92      0.92      5942\n",
              "weighted avg       0.93      0.93      0.93      5942\n",
              "</td>\n",
              "    </tr>\n",
              "    <tr>\n",
              "      <td>1000</td>\n",
              "      <td>0.008700</td>\n",
              "      <td>0.056471</td>\n",
              "      <td>0.932734</td>\n",
              "      <td>0.942780</td>\n",
              "      <td>0.937730</td>\n",
              "      <td>              precision    recall  f1-score   support\n",
              "\n",
              "         LOC       0.95      0.96      0.95      1837\n",
              "        MISC       0.87      0.89      0.88       922\n",
              "         ORG       0.92      0.92      0.92      1341\n",
              "         PER       0.96      0.97      0.96      1842\n",
              "\n",
              "   micro avg       0.93      0.94      0.94      5942\n",
              "   macro avg       0.92      0.93      0.93      5942\n",
              "weighted avg       0.93      0.94      0.94      5942\n",
              "</td>\n",
              "    </tr>\n",
              "    <tr>\n",
              "      <td>1500</td>\n",
              "      <td>0.005700</td>\n",
              "      <td>0.059620</td>\n",
              "      <td>0.939110</td>\n",
              "      <td>0.944800</td>\n",
              "      <td>0.941946</td>\n",
              "      <td>              precision    recall  f1-score   support\n",
              "\n",
              "         LOC       0.96      0.95      0.96      1837\n",
              "        MISC       0.89      0.90      0.89       922\n",
              "         ORG       0.91      0.93      0.92      1341\n",
              "         PER       0.96      0.97      0.97      1842\n",
              "\n",
              "   micro avg       0.94      0.94      0.94      5942\n",
              "   macro avg       0.93      0.94      0.93      5942\n",
              "weighted avg       0.94      0.94      0.94      5942\n",
              "</td>\n",
              "    </tr>\n",
              "  </tbody>\n",
              "</table><p>"
            ]
          },
          "metadata": {}
        },
        {
          "output_type": "execute_result",
          "data": {
            "text/plain": [
              "TrainOutput(global_step=1874, training_loss=0.017585012389857844, metrics={'train_runtime': 562.8501, 'train_samples_per_second': 26.627, 'train_steps_per_second': 3.329, 'total_flos': 960565719981294.0, 'train_loss': 0.017585012389857844, 'epoch': 1.0})"
            ]
          },
          "metadata": {},
          "execution_count": 62
        }
      ]
    },
    {
      "cell_type": "code",
      "source": [
        "# Save the trained model\n",
        " model_save_path = \"/content/drive/MyDrive/conll2003/bert_crf_model2.pth\"  # Specify the path where you want to save the model\n",
        " torch.save(model_BERT_CRF.state_dict(), model_save_path)\n",
        " print(f\"Model saved to {model_save_path}\")"
      ],
      "metadata": {
        "colab": {
          "base_uri": "https://localhost:8080/"
        },
        "id": "8HgKRFA8QXGn",
        "outputId": "58b123ea-79cc-446a-f890-d4bd5caa6cea"
      },
      "execution_count": null,
      "outputs": [
        {
          "output_type": "stream",
          "name": "stdout",
          "text": [
            "Model saved to /content/drive/MyDrive/conll2003/bert_crf_model2.pth\n"
          ]
        }
      ]
    },
    {
      "cell_type": "code",
      "source": [
        " model_BERT_CRF = BertCRFModel(model_name2, num_labels)  # Initialize the model structure\n",
        " model_BERT_CRF.load_state_dict(torch.load(\"/content/drive/MyDrive/conll2003/bert_crf_model2.pth\"))  # Load the saved state_dict\n",
        " model_BERT_CRF.eval()  # Set the model to evaluation mode\n",
        " loaded_tokenizer = AutoTokenizer.from_pretrained(\"bert-base-cased\")\n",
        " print(\"Model loaded successfully.\")"
      ],
      "metadata": {
        "id": "LLX3Ui8zLCvM"
      },
      "execution_count": null,
      "outputs": []
    },
    {
      "cell_type": "code",
      "source": [
        "# Ensure the model is loaded to the correct device\n",
        "device = torch.device(\"cuda\" if torch.cuda.is_available() else \"cpu\")\n",
        "# Load the model\n",
        "model_BERT_CRF = BertCRFModel(model_name2, num_labels)  # Initialize the model structure\n",
        "model_BERT_CRF.load_state_dict(torch.load(\"/content/drive/MyDrive/conll2003/bert_crf_model.pth\", map_location=device))  # Map to the correct device\n",
        "model_BERT_CRF.to(device)  # Move the model to the appropriate device\n",
        "\n",
        "print(\"Model loaded successfully on device:\", device)"
      ],
      "metadata": {
        "colab": {
          "base_uri": "https://localhost:8080/"
        },
        "id": "wC126SDZOyyq",
        "outputId": "b85ade81-ca3f-41fd-d7fc-38c139577be9"
      },
      "execution_count": 37,
      "outputs": [
        {
          "output_type": "stream",
          "name": "stderr",
          "text": [
            "<ipython-input-37-2b11cef4c4f1>:5: FutureWarning: You are using `torch.load` with `weights_only=False` (the current default value), which uses the default pickle module implicitly. It is possible to construct malicious pickle data which will execute arbitrary code during unpickling (See https://github.com/pytorch/pytorch/blob/main/SECURITY.md#untrusted-models for more details). In a future release, the default value for `weights_only` will be flipped to `True`. This limits the functions that could be executed during unpickling. Arbitrary objects will no longer be allowed to be loaded via this mode unless they are explicitly allowlisted by the user via `torch.serialization.add_safe_globals`. We recommend you start setting `weights_only=True` for any use case where you don't have full control of the loaded file. Please open an issue on GitHub for any issues related to this experimental feature.\n",
            "  model_BERT_CRF.load_state_dict(torch.load(\"/content/drive/MyDrive/conll2003/bert_crf_model.pth\", map_location=device))  # Map to the correct device\n"
          ]
        },
        {
          "output_type": "stream",
          "name": "stdout",
          "text": [
            "Model loaded successfully on device: cpu\n"
          ]
        }
      ]
    },
    {
      "cell_type": "code",
      "source": [
        "sentence = \"John Smith is a software engineer who works at Google.\"\n",
        "\n",
        "# Tokenize and prepare the input\n",
        "tokenized_input = loaded_tokenizer(sentence, return_tensors=\"pt\", padding=True, truncation=True)\n",
        "input_ids = tokenized_input[\"input_ids\"].squeeze().tolist()  # Convert tensor to list for decoding\n",
        "\n",
        "# Move tensors to the model's device\n",
        "device = torch.device(\"cuda\" if torch.cuda.is_available() else \"cpu\")\n",
        "model_BERT_CRF.to(device)\n",
        "tokenized_input = {key: val.to(device) for key, val in tokenized_input.items()}\n",
        "\n",
        "# Perform inference\n",
        "with torch.no_grad():\n",
        "    # Pass inputs through the BERT encoder\n",
        "    outputs = model_BERT_CRF.bert(\n",
        "        input_ids=tokenized_input[\"input_ids\"],\n",
        "        attention_mask=tokenized_input[\"attention_mask\"]\n",
        "    )\n",
        "    sequence_output = outputs[0]  # This gives us (batch_size, seq_len, hidden_size)\n",
        "\n",
        "    # Pass through the classifier to get logits\n",
        "    logits = model_BERT_CRF.classifier(sequence_output)  # (batch_size, seq_len, num_labels)\n",
        "\n",
        "    # Decode the most probable sequence using CRF\n",
        "    mask = tokenized_input[\"attention_mask\"]\n",
        "    predictions = model_BERT_CRF.crf.viterbi_decode(logits, mask=mask)[0]  # CRF decoding returns sequences\n",
        "\n",
        "# Map tokens and labels to entities\n",
        "entities = []\n",
        "previous_label = None\n",
        "current_entity = []\n",
        "\n",
        "# Iterate through each token and its prediction\n",
        "for idx, label_id in enumerate(predictions):\n",
        "    token = loaded_tokenizer.convert_ids_to_tokens(input_ids[idx])  # Get token\n",
        "\n",
        "    # Skip special tokens (e.g., '[CLS]', '[SEP]')\n",
        "    if token in loaded_tokenizer.all_special_tokens:\n",
        "        continue\n",
        "\n",
        "    # Exclude punctuation or stop words\n",
        "    if token in ['.', ',', '!', '?', '(', ')', '[', ']', ':', '-', 'at', 'is', 'a', 'who', 'and']:\n",
        "        continue\n",
        "\n",
        "    # Get label\n",
        "    entity_label = label_list[label_id]\n",
        "\n",
        "    # If label is the same as previous, continue accumulating in the current entity\n",
        "    if previous_label == entity_label and entity_label != \"O\" and entity_label != \"I-MISC\":\n",
        "        current_entity.append(token)\n",
        "    else:\n",
        "        # If there was a previous entity, add it to the final list\n",
        "        if current_entity:\n",
        "            entities.append((\" \".join(current_entity), previous_label))\n",
        "        # Start a new entity\n",
        "        current_entity = [token]\n",
        "\n",
        "    previous_label = entity_label\n",
        "\n",
        "# If there's a remaining entity, append it to the list\n",
        "if current_entity:\n",
        "    entities.append((\" \".join(current_entity), previous_label))\n",
        "\n",
        "# Print extracted entities\n",
        "print(\"Named Entities - Example 1:\")\n",
        "print(\"_\"*20)\n",
        "for i,ind in enumerate(entities):\n",
        "    print(f\"{i} => {ind}\")"
      ],
      "metadata": {
        "colab": {
          "base_uri": "https://localhost:8080/"
        },
        "id": "hTb7t9vpK3b-",
        "outputId": "aee26b68-ee09-4ab8-8305-4c0e367a952c"
      },
      "execution_count": 38,
      "outputs": [
        {
          "output_type": "stream",
          "name": "stdout",
          "text": [
            "Named Entities - Example 1:\n",
            "____________________\n",
            "0 => ('John', 'B-LOC')\n",
            "1 => ('Smith', 'I-MISC')\n",
            "2 => ('software', 'I-MISC')\n",
            "3 => ('engineer', 'O')\n",
            "4 => ('works', 'O')\n",
            "5 => ('Google', 'O')\n"
          ]
        }
      ]
    }
  ]
}